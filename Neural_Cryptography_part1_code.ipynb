{
  "nbformat": 4,
  "nbformat_minor": 0,
  "metadata": {
    "colab": {
      "name": "Neural-Cryptography_part1_code.ipynb",
      "provenance": [],
      "collapsed_sections": [
        "eJQDMjBg9wrB",
        "k3-mZ7F391ei",
        "uEiVA6orsULW",
        "2byDYkyhslMT",
        "RJVsGtOftXYy",
        "KiHNIfFo5vbt",
        "dL2qka5J6Bq9"
      ],
      "include_colab_link": true
    },
    "kernelspec": {
      "name": "python3",
      "display_name": "Python 3"
    },
    "language_info": {
      "name": "python"
    }
  },
  "cells": [
    {
      "cell_type": "markdown",
      "metadata": {
        "id": "view-in-github",
        "colab_type": "text"
      },
      "source": [
        "<a href=\"https://colab.research.google.com/github/ibenoam/Neural_cryptography/blob/main/Neural_Cryptography_part1_code.ipynb\" target=\"_parent\"><img src=\"https://colab.research.google.com/assets/colab-badge.svg\" alt=\"Open In Colab\"/></a>"
      ]
    },
    {
      "cell_type": "markdown",
      "source": [
        "## Imports"
      ],
      "metadata": {
        "id": "eJQDMjBg9wrB"
      }
    },
    {
      "cell_type": "code",
      "metadata": {
        "id": "3EOscj-MM5Ii"
      },
      "source": [
        "import numpy as np\n",
        "import matplotlib.pyplot as plt\n",
        "import copy"
      ],
      "execution_count": null,
      "outputs": []
    },
    {
      "cell_type": "markdown",
      "source": [
        "## TPM Class"
      ],
      "metadata": {
        "id": "k3-mZ7F391ei"
      }
    },
    {
      "cell_type": "markdown",
      "metadata": {
        "id": "aAXIiQfnBZmD"
      },
      "source": [
        "Lets define our Tree-Parity Machine (TPM) class:"
      ]
    },
    {
      "cell_type": "code",
      "metadata": {
        "id": "cCrSehcOKosp"
      },
      "source": [
        "class TPM:\n",
        "    def __init__(self,N,K,L,M=1):\n",
        "        # Constants:\n",
        "        self.N = N\n",
        "        self.K = K\n",
        "        self.L = L\n",
        "        self.M = M\n",
        "\n",
        "        # Initialization:\n",
        "        self.w = np.floor((2*L+1) * np.random.rand(N,K)) - L\n",
        "        self.init_w = copy.deepcopy(self.w)\n",
        "        self.fields = np.zeros((1,K))\n",
        "        self.sigmas = np.zeros((1,K))\n",
        "        self.tau = 0\n",
        "\n",
        "    # The feed-forward:\n",
        "    def forward(self,input):\n",
        "        self.fields = np.sum(self.w*input, axis=0)\n",
        "        self.sigmas = np.sign(self.fields + 1e-10)\n",
        "        # I add 1e-10 to get sigmas != 0\n",
        "        self.tau = np.prod(self.sigmas)\n",
        "  \n",
        "    # updating the weights:\n",
        "    def update(self,input):\n",
        "        update_indexes = np.where(self.sigmas == self.tau)\n",
        "        self.w[:,update_indexes] += input[:,update_indexes]\n",
        "        self.w[np.abs(self.w)>self.L] = np.sign(self.w[np.abs(self.w)>self.L])*self.L\n",
        "\n",
        "    # \"correlation\" calculates the correlation between two sets of weights (the cosinus).\n",
        "    def correlation(self, other):\n",
        "        w1 = np.transpose(self.w.flatten())\n",
        "        w2 = other.w.flatten()\n",
        "        corr_val = (w1 @ w2) / (np.linalg.norm(w1) * np.linalg.norm(w2))\n",
        "        return corr_val\n",
        "\n",
        "    # \"self_correlation\" is similar to \"correlation\" except that it calculates\n",
        "    # the correlation between the current weights and the initial weights.\n",
        "    def self_correlation(self):\n",
        "        w1 = np.transpose(self.w.flatten())\n",
        "        w2 = self.init_w.flatten()\n",
        "        corr_val = (w1 @ w2) / (np.linalg.norm(w1) * np.linalg.norm(w2))\n",
        "        return corr_val"
      ],
      "execution_count": null,
      "outputs": []
    },
    {
      "cell_type": "markdown",
      "source": [
        "## Main"
      ],
      "metadata": {
        "id": "BGJMyBJa9lcZ"
      }
    },
    {
      "cell_type": "markdown",
      "metadata": {
        "id": "F7SUhaNjsIeX"
      },
      "source": [
        "Now, we define a few constants and initialize a dictionary named 'data' which has the following keys:\n",
        "*   'sync_time': number of steps until Alice and Bob succeed to converge.\n",
        "*   'attacker_time': number of steps Eve needed until convergence to Alice's weights.\n",
        "*   'corr_alice'/('corr_bob'): the correlation between Alice's/(Bob's) final weights and the initial weights.\n",
        "*   'corr_alice_bob': the correlation over time between Alice and Bob weights.\n",
        "*   'corr_alice_eve': the correlation over time between Alice and Eve weights.\n"
      ]
    },
    {
      "cell_type": "code",
      "metadata": {
        "id": "Lc3YuucVMSgw"
      },
      "source": [
        "N = 10 # each N input neurons are connected to 1 hidden neuron\n",
        "L = 3 # the \"synaptic\" depth\n",
        "K = 3 # number of perceptrons (or the hidden layer size)\n",
        "M = 1 # the input consists of integers in the range [-M,M] without 0\n",
        "\n",
        "num_sys = 100 # we average each result \"num_sys\" times\n",
        "\n",
        "data = {'sync_time': [], 'attacker_time': [], 'corr_alice': [], 'corr_bob': [], 'corr_alice_bob':  [[] for _ in range(num_sys)],\n",
        "        'corr_alice_eve':  [[] for _ in range(num_sys)], 'when_move': [[] for _ in range(num_sys)]}"
      ],
      "execution_count": null,
      "outputs": []
    },
    {
      "cell_type": "code",
      "metadata": {
        "id": "mbvCtvUfNkf9"
      },
      "source": [
        "for i in range(num_sys):\n",
        "    # Generate Alice's and Bob's TPMs:\n",
        "    alice = TPM(N,K,L)\n",
        "    bob = TPM(N,K,L)\n",
        "    # Generates the attacker's TPM:\n",
        "    eve = TPM(N,K,L)\n",
        "\n",
        "    count_steps = 0\n",
        "    flag = True # True means that alice's TPM and Bob's TPM are not the same\n",
        "\n",
        "    while not np.array_equal(alice.w,eve.w):\n",
        "        # print(f\"After {count_steps} steps.\")\n",
        "        count_steps += 1\n",
        "        if flag:\n",
        "            data['corr_alice_bob'][i].append(alice.correlation(bob))\n",
        "            data['corr_alice_eve'][i].append(alice.correlation(eve))\n",
        "\n",
        "            if np.array_equal(alice.w,bob.w): # and flag\n",
        "                data['sync_time'].append(count_steps)\n",
        "                data['corr_alice'].append(alice.self_correlation())\n",
        "                data['corr_bob'].append(bob.self_correlation())\n",
        "                flag = False\n",
        "\n",
        "        inputs = np.sign(np.random.rand(N,K)-0.5)\n",
        "        # for more general case:\n",
        "        # inputs = (np.random.randint(M,size=(N,K))+1)*(np.sign(np.random.rand(N,K)-0.5))\n",
        "        alice.forward(inputs)\n",
        "        bob.forward(inputs)\n",
        "  \n",
        "        # According to the algorithm, Alice and Bob take a step only when their outputs are identical:\n",
        "        if alice.tau == bob.tau:\n",
        "            data['when_move'][i].append(1)\n",
        "            alice.update(inputs)\n",
        "            bob.update(inputs)\n",
        "        else:\n",
        "            data['when_move'][i].append(0)\n",
        "      \n",
        "        # The best strategy for an attacker with only a single TPM:\n",
        "        eve.forward(inputs)\n",
        "        if eve.tau == alice.tau:\n",
        "            eve.update(inputs)\n",
        "        else:\n",
        "            min_field_index = np.argmin(np.abs(eve.fields))\n",
        "            eve.sigmas[min_field_index] *= -1 # flips a field\n",
        "            eve.tau *= -1 # which flips the output\n",
        "            eve.update(inputs)\n",
        "        # data['corr_alice_eve'][i].append(alice.correlation(eve))\n",
        "\n",
        "    # print(f\" finished {100*(i+1)/num_sys}% of the runtime\")\n",
        "    data['attacker_time'].append(count_steps)"
      ],
      "execution_count": null,
      "outputs": []
    },
    {
      "cell_type": "code",
      "metadata": {
        "colab": {
          "base_uri": "https://localhost:8080/"
        },
        "id": "hUv36IYnJBh1",
        "outputId": "36b8de89-1846-4b76-81df-cbd68ca27240"
      },
      "source": [
        "print(f\" The average synchronization time between Alice and bob is {np.mean(data['sync_time']):.3f} steps with std of {np.std(data['sync_time']):.3f}\")\n",
        "print(f\" The average learning time between of Eve is {np.mean(data['attacker_time']):.3f} steps with std of {np.std(data['attacker_time']):.3f}\")"
      ],
      "execution_count": null,
      "outputs": [
        {
          "output_type": "stream",
          "name": "stdout",
          "text": [
            " The average synchronization time between Alice and bob is 222.550 steps with std of 87.284\n",
            " The average learning time between of Eve is 694.390 steps with std of 420.630\n"
          ]
        }
      ]
    },
    {
      "cell_type": "markdown",
      "source": [
        "# Figures"
      ],
      "metadata": {
        "id": "WoO95V0TsNZ2"
      }
    },
    {
      "cell_type": "markdown",
      "source": [
        "We want to see whether Alice and Bob succeeded to sychronize and how much time it took for them. "
      ],
      "metadata": {
        "id": "vLBfctmHVqKF"
      }
    },
    {
      "cell_type": "markdown",
      "source": [
        "## Fig. 1: histogram of the synchronization time between Alice and bob"
      ],
      "metadata": {
        "id": "uEiVA6orsULW"
      }
    },
    {
      "cell_type": "code",
      "metadata": {
        "colab": {
          "base_uri": "https://localhost:8080/",
          "height": 312
        },
        "id": "W5qsNLAXMpsL",
        "outputId": "700540a3-a3fb-41ad-a99b-c1d329e9beda"
      },
      "source": [
        "plt.figure()\n",
        "plt.hist(data['sync_time'], color = \"blue\", bins = 20)\n",
        "plt.title('Histogram of the sync. time between A & B')\n",
        "plt.xlabel(\"sync. time\")\n",
        "plt.ylabel(\"amount\")\n",
        "plt.plot()"
      ],
      "execution_count": null,
      "outputs": [
        {
          "output_type": "execute_result",
          "data": {
            "text/plain": [
              "[]"
            ]
          },
          "metadata": {},
          "execution_count": 8
        },
        {
          "output_type": "display_data",
          "data": {
            "text/plain": [
              "<Figure size 432x288 with 1 Axes>"
            ],
            "image/png": "[encoded data removed]"
          },
          "metadata": {
            "needs_background": "light"
          }
        }
      ]
    },
    {
      "cell_type": "markdown",
      "source": [
        "As you can see, Alice's TPM succeeds to synchronize with Bob's TPM every time! It is not that surprising since it has been proven analytically that this mutual learning process, under the restriction of discrete weights, takes a finite number of steps in [this](https://iopscience.iop.org/article/10.1088/0305-4470/35/47/104/meta) paper."
      ],
      "metadata": {
        "id": "VdajpeTaV9dP"
      }
    },
    {
      "cell_type": "markdown",
      "metadata": {
        "id": "pTyGlcGy45o3"
      },
      "source": [
        "We want to see whether Eve does not succeed to converge faster than Alice and Bob."
      ]
    },
    {
      "cell_type": "markdown",
      "source": [
        "## Fig. 2: histogram of Eve's learning time"
      ],
      "metadata": {
        "id": "2byDYkyhslMT"
      }
    },
    {
      "cell_type": "code",
      "metadata": {
        "colab": {
          "base_uri": "https://localhost:8080/",
          "height": 312
        },
        "id": "jvgcbQZMQpgL",
        "outputId": "e675c192-34ac-414b-f316-5956230263da"
      },
      "source": [
        "plt.hist(data['attacker_time'], color = \"red\",  bins = 20)\n",
        "plt.title(\"Histogram of the attacker's learning time\")\n",
        "plt.xlabel(\"learning time\")\n",
        "plt.ylabel(\"amount\")\n",
        "plt.plot(c = 'red')"
      ],
      "execution_count": null,
      "outputs": [
        {
          "output_type": "execute_result",
          "data": {
            "text/plain": [
              "[]"
            ]
          },
          "metadata": {},
          "execution_count": 9
        },
        {
          "output_type": "display_data",
          "data": {
            "text/plain": [
              "<Figure size 432x288 with 1 Axes>"
            ],
            "image/png": "[encoded data removed]"
          },
          "metadata": {
            "needs_background": "light"
          }
        }
      ]
    },
    {
      "cell_type": "markdown",
      "source": [
        "As we can see, in average Eve's learning time is greater than the synchronization time between Alice and Bob. **But** we want to know if there is a chance that Eve's time is better! so..."
      ],
      "metadata": {
        "id": "Ak5Hh858sz9K"
      }
    },
    {
      "cell_type": "markdown",
      "source": [
        "## Fig. 3: The ratio between Eve's learning time and the synchronization time"
      ],
      "metadata": {
        "id": "RJVsGtOftXYy"
      }
    },
    {
      "cell_type": "code",
      "metadata": {
        "colab": {
          "base_uri": "https://localhost:8080/",
          "height": 330
        },
        "id": "HQLjF6R7CaGE",
        "outputId": "e4fada52-4be9-4daf-af54-6545752424ea"
      },
      "source": [
        "ratio_attack_sync = [i/j for i, j in zip(data['attacker_time'], data['sync_time'])]\n",
        "data['ratio_attack_sync'] = ratio_attack_sync\n",
        "\n",
        "plt.figure()\n",
        "plt.hist(ratio_attack_sync, color = \"orange\", bins = 20)\n",
        "plt.title('Ratio between the attacker learning time and the synchronization time')\n",
        "plt.xlabel(\"ratio\")\n",
        "plt.ylabel(\"amount\")\n",
        "plt.plot()\n",
        "\n",
        "print(f\" The average ratio between the attacker learning time and the synchronization time is {np.mean(ratio_attack_sync):.3f} with std of {np.std(ratio_attack_sync):.3f}\")\n",
        "print(f\" The minimal ratio  is {np.min(ratio_attack_sync):.3f}\")"
      ],
      "execution_count": null,
      "outputs": [
        {
          "output_type": "stream",
          "name": "stdout",
          "text": [
            " The average ratio between the attacker learning time and the synchronization time is 3.429 with std of 2.331\n",
            " The minimal ratio  is 1.051\n"
          ]
        },
        {
          "output_type": "display_data",
          "data": {
            "text/plain": [
              "<Figure size 432x288 with 1 Axes>"
            ],
            "image/png": "[encoded data removed]"
          },
          "metadata": {
            "needs_background": "light"
          }
        }
      ]
    },
    {
      "cell_type": "markdown",
      "source": [
        "As we can see, the minimal ratio is always greater than 1, which means that Alice and Bob succeed to synchronize before Eve."
      ],
      "metadata": {
        "id": "1k--777Y8mT1"
      }
    },
    {
      "cell_type": "markdown",
      "source": [
        "## Fig. 4: Histogram of the correlation between Alice's initial weights and her final weights"
      ],
      "metadata": {
        "id": "KiHNIfFo5vbt"
      }
    },
    {
      "cell_type": "markdown",
      "metadata": {
        "id": "uc2LboBi5Zl0"
      },
      "source": [
        "One can say that if we know Alice's weights initial state, we can evaluate where she will end.\n",
        "<br> Therefore, we calculate the correlation between Alice's initial and her final weights:"
      ]
    },
    {
      "cell_type": "code",
      "metadata": {
        "colab": {
          "base_uri": "https://localhost:8080/",
          "height": 312
        },
        "id": "ldi96l93JAic",
        "outputId": "bef1ed8e-0bfb-4010-e918-c58617c201a2"
      },
      "source": [
        "plt.figure()\n",
        "plt.hist(data['corr_alice'], color = \"grey\", bins = 20)\n",
        "plt.title('Histogram of the correaltion between the initial and the final weights of Alice')\n",
        "plt.xlabel(\"correlation\")\n",
        "plt.ylabel(\"amount\")\n",
        "plt.plot()\n",
        "\n",
        "print(f\" The average correlation between Alice's initial and final weights is {np.mean(data['corr_alice']):.3f} steps with std of {np.std(data['corr_alice']):.3f}\")"
      ],
      "execution_count": null,
      "outputs": [
        {
          "output_type": "stream",
          "name": "stdout",
          "text": [
            " The average correlation between Alice's initial and final weights is -0.017 steps with std of 0.191\n"
          ]
        },
        {
          "output_type": "display_data",
          "data": {
            "text/plain": [
              "<Figure size 432x288 with 1 Axes>"
            ],
            "image/png": "[encoded data removed]"
          },
          "metadata": {
            "needs_background": "light"
          }
        }
      ]
    },
    {
      "cell_type": "markdown",
      "source": [
        "As we can see, the histogram is around zero (0= no correlation at all)."
      ],
      "metadata": {
        "id": "l6olE1Rp_dFG"
      }
    },
    {
      "cell_type": "markdown",
      "source": [
        "## Fig. 5: The weights correlation over time"
      ],
      "metadata": {
        "id": "dL2qka5J6Bq9"
      }
    },
    {
      "cell_type": "markdown",
      "metadata": {
        "id": "IvCFDLtme8zU"
      },
      "source": [
        "The following graph shows that correlation between Alice's TPM and Bob's TPM increases faster than the correlation between Alice's TPM and Eve's TPM over the learning steps:"
      ]
    },
    {
      "cell_type": "code",
      "source": [
        "from scipy.ndimage.filters import gaussian_filter1d\n",
        "\n",
        "which_sys=0\n",
        "\n",
        "fig = plt.figure()\n",
        "fig, (ax1, ax2) = plt.subplots(1, 2)\n",
        "fig.suptitle('The correlation between Alice and Bob (green) and\\n the correlation between Alice and Eve (red) vs. time\\n noisy plot                              smoother plot')\n",
        "ax1.plot(range(len(data['corr_alice_bob'][which_sys])), data['corr_alice_bob'][which_sys], c = 'green')\n",
        "ax1.plot(range(len(data['corr_alice_eve'][which_sys])), data['corr_alice_eve'][which_sys], c = 'red')\n",
        "ax1.set(xlabel='time', ylabel='correlation')\n",
        "# ax1.set_title('noisy plot')\n",
        "ax2.plot(range(len(data['corr_alice_bob'][which_sys])), gaussian_filter1d(data['corr_alice_bob'][which_sys],2), c = 'green')\n",
        "ax2.plot(range(len(data['corr_alice_eve'][which_sys])), gaussian_filter1d(data['corr_alice_eve'][which_sys],2), c = 'red')\n",
        "ax2.set(xlabel='time') #, ylabel='correlation')\n",
        "# ax2.set_title('smoother plot')"
      ],
      "metadata": {
        "colab": {
          "base_uri": "https://localhost:8080/",
          "height": 343
        },
        "id": "QZdKOdA8EM94",
        "outputId": "a506c2d1-a770-419b-cfd5-aebbaa260b2f"
      },
      "execution_count": null,
      "outputs": [
        {
          "output_type": "execute_result",
          "data": {
            "text/plain": [
              "[Text(0.5, 0, 'time')]"
            ]
          },
          "metadata": {},
          "execution_count": 31
        },
        {
          "output_type": "display_data",
          "data": {
            "text/plain": [
              "<Figure size 432x288 with 0 Axes>"
            ]
          },
          "metadata": {}
        },
        {
          "output_type": "display_data",
          "data": {
            "text/plain": [
              "<Figure size 432x288 with 2 Axes>"
            ],
            "image/png": "[encoded data removed]"
          },
          "metadata": {
            "needs_background": "light"
          }
        }
      ]
    },
    {
      "cell_type": "markdown",
      "source": [
        "As you can see, the correlation between Alice and Bob rises more monotonically where the correlation with Eve suffers from a noise because of her strategy."
      ],
      "metadata": {
        "id": "Hw509sfm_f6Y"
      }
    },
    {
      "cell_type": "markdown",
      "source": [
        "## Fig. 6: The probability to get the identical outputs over time"
      ],
      "metadata": {
        "id": "YGgEoGkr6fpb"
      }
    },
    {
      "cell_type": "markdown",
      "metadata": {
        "id": "_IV9S-n2PCZl"
      },
      "source": [
        "The following figure confirms the assumption that as the correlation between Alice's and Bob's weights higher, it is more likely to get the same output."
      ]
    },
    {
      "cell_type": "code",
      "metadata": {
        "id": "UnZju-iZIS89",
        "colab": {
          "base_uri": "https://localhost:8080/",
          "height": 312
        },
        "outputId": "79ca19d4-046e-4ce2-c84b-6fb725030cb5"
      },
      "source": [
        "# sliding window\n",
        "window_size = 50\n",
        "chance = []\n",
        "for i in range(len(data['when_move'][0])-window_size+1):\n",
        "    chance.append(sum(data['when_move'][0][i:i + window_size])/window_size)\n",
        "\n",
        "plt.figure()\n",
        "plt.title('The probability to take a step vs. time')\n",
        "plt.xlabel(\"time\")\n",
        "plt.ylabel(\"probability\")\n",
        "plt.plot(range(len(chance)), chance, c = 'green')\n",
        "plt.scatter(int(data['sync_time'][0]), chance[int(data['sync_time'][0])], c = 'red', s = 10, linewidth = 5)"
      ],
      "execution_count": null,
      "outputs": [
        {
          "output_type": "execute_result",
          "data": {
            "text/plain": [
              "<matplotlib.collections.PathCollection at 0x7f4d5ce86b50>"
            ]
          },
          "metadata": {},
          "execution_count": 35
        },
        {
          "output_type": "display_data",
          "data": {
            "text/plain": [
              "<Figure size 432x288 with 1 Axes>"
            ],
            "image/png": "[encoded data removed]"
          },
          "metadata": {
            "needs_background": "light"
          }
        }
      ]
    }
  ]
}