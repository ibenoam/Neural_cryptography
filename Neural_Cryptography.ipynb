{
  "nbformat": 4,
  "nbformat_minor": 0,
  "metadata": {
    "colab": {
      "name": "Neural-Cryptography.ipynb",
      "provenance": [],
      "collapsed_sections": [],
      "include_colab_link": true
    },
    "kernelspec": {
      "name": "python3",
      "display_name": "Python 3"
    },
    "language_info": {
      "name": "python"
    }
  },
  "cells": [
    {
      "cell_type": "markdown",
      "metadata": {
        "id": "view-in-github",
        "colab_type": "text"
      },
      "source": [
        "<a href=\"https://colab.research.google.com/github/ibenoam/Neural_cryptography/blob/main/Neural_Cryptography.ipynb\" target=\"_parent\"><img src=\"https://colab.research.google.com/assets/colab-badge.svg\" alt=\"Open In Colab\"/></a>"
      ]
    },
    {
      "cell_type": "markdown",
      "metadata": {
        "id": "GG2QRa_aMZht"
      },
      "source": [
        "# Neural-Cryptography:\n",
        "### Solving the key exchange problem by synchronize Tree Parity Machines"
      ]
    },
    {
      "cell_type": "code",
      "metadata": {
        "id": "3EOscj-MM5Ii"
      },
      "source": [
        "import numpy as np\n",
        "import matplotlib.pyplot as plt\n",
        "import copy # ?\n",
        "import pdb"
      ],
      "execution_count": null,
      "outputs": []
    },
    {
      "cell_type": "markdown",
      "metadata": {
        "id": "aAXIiQfnBZmD"
      },
      "source": [
        "Lets define our Tree-Parity Machine (TPM) class:"
      ]
    },
    {
      "cell_type": "code",
      "metadata": {
        "id": "cCrSehcOKosp"
      },
      "source": [
        "class TPM:\n",
        "  def __init__(self,N,K,L,M=1):\n",
        "    # Constants:\n",
        "    self.N = N\n",
        "    self.K = K\n",
        "    self.L = L\n",
        "    self.M = M\n",
        "\n",
        "    # Initialization:\n",
        "    self.w = np.floor((2*L+1) * np.random.rand(N,K)) - L\n",
        "    self.init_w = copy.deepcopy(self.w)\n",
        "    self.fields = np.zeros((1,K))\n",
        "    self.sigmas = np.zeros((1,K))\n",
        "    self.tau = 0\n",
        "\n",
        "    # The feed-forward process:\n",
        "  def forward(self,input):\n",
        "    self.fields = np.sum(self.w*input, axis=0)\n",
        "    self.sigmas = np.sign(self.fields + 1e-10)\n",
        "    self.tau = np.prod(self.sigmas)\n",
        "  \n",
        "    # updating the weights:\n",
        "  def update(self,input):\n",
        "    update_indexes = np.where(self.sigmas == self.tau)\n",
        "    self.w[:,update_indexes] += input[:,update_indexes]\n",
        "    self.w[np.abs(self.w)>self.L] = np.sign(self.w[np.abs(self.w)>self.L])*self.L\n"
      ],
      "execution_count": null,
      "outputs": []
    },
    {
      "cell_type": "code",
      "metadata": {
        "id": "6vFuWk0HRx8U"
      },
      "source": [
        "# This function gets two sets of weights (flatten each of them to a vector), and calculates the correlation between them (or the cosinus between them).\n",
        "def correlation_calc(w1, w2):\n",
        "  w1 = np.transpose(w1.flatten())\n",
        "  w2 = w2.flatten()\n",
        "  corr_val = (w1 @ w2) / (np.linalg.norm(w1) * np.linalg.norm(w2))\n",
        "  return corr_val"
      ],
      "execution_count": null,
      "outputs": []
    },
    {
      "cell_type": "markdown",
      "metadata": {
        "id": "F7SUhaNjsIeX"
      },
      "source": [
        "Now, we define a few constants and initialize a list of dictionaries.\n",
        "<br> Each dictionary has the following keys:\n",
        "*   'sync_time': number of steps until Alice and Bob succeed to converge.\n",
        "*   'attacker_time': number of steps until Eve is needed to converge.\n",
        "*   'corr_alice'/('corr_bob'): the correlation between Alice's/(Bob's) final weights and the initial weights.\n",
        "*   'corr_alice_bob': the correlation over time between Alice and Bob weights.\n",
        "*   'corr_alice_eve': the correlation over time between Alice and Eve weights.\n"
      ]
    },
    {
      "cell_type": "code",
      "metadata": {
        "id": "Lc3YuucVMSgw"
      },
      "source": [
        "N = 10 # each N input neurons goes to 1 hidden neuron\n",
        "L = 3 # the \"synaptic\" depth\n",
        "K = 3 # number of perceptrons (or hidden layer size)\n",
        "M = 1 # the input consists of integers between -M to M (without zero)\n",
        "\n",
        "num_sys = 100 # we average each result \"num_sys\" times\n",
        "\n",
        "# sync_time = np.zeros((1,num_sys))\n",
        "# attacker_time = np.zeros((1,num_sys))\n",
        "\n",
        "# corr_alice = np.zeros((1,num_sys))\n",
        "# corr_bob = np.zeros((1,num_sys))\n",
        "# corr_alice_bob = np.zeros((1,num_sys))\n",
        "# corr_alice_eve = np.zeros((1,num_sys))\n",
        "\n",
        "# data = [{'sync_time': int(), 'attacker_time': int(), 'corr_alice': float(), 'corr_bob': float(), 'corr_alice_bob': [], 'corr_alice_eve': [], 'when_move': []} for _ in range(num_sys)]\n",
        "data = {'sync_time': [], 'attacker_time': [], 'corr_alice': [], 'corr_bob': [], 'corr_alice_bob': [], 'corr_alice_eve': [], 'when_move': []}\n",
        "\n",
        "## change data to a dictionary with the keys. list can work with different lengths"
      ],
      "execution_count": null,
      "outputs": []
    },
    {
      "cell_type": "code",
      "metadata": {
        "id": "mbvCtvUfNkf9"
      },
      "source": [
        "for i in range(num_sys):\n",
        "\n",
        "    flag = True\n",
        "    # Creates the objects from the \"TPM\" class:\n",
        "    alice = TPM(N,K,L)\n",
        "    bob = TPM(N,K,L)\n",
        "    # Creates the attacker's TPM:\n",
        "    eve = TPM(N,K,L)\n",
        "\n",
        "    count_steps = 0\n",
        "    \n",
        "    # while not np.array_equal(alice.w,bob.w):\n",
        "    while not np.array_equal(alice.w,eve.w):\n",
        "      # print(f\"After {count_steps} steps.\")\n",
        "      count_steps += 1\n",
        "      if flag:\n",
        "          data['corr_alice_bob'].append(correlation_calc(alice.w, bob.w))\n",
        "\n",
        "          if np.array_equal(alice.w,bob.w): # and flag\n",
        "                data['sync_time'].append(count_steps)\n",
        "                data['corr_alice'].append(correlation_calc(alice.init_w, alice.w))\n",
        "                data['corr_bob'].append(correlation_calc(bob.init_w, bob.w))\n",
        "                flag = False\n",
        "\n",
        "      inputs = np.sign(np.random.rand(N,K)-0.5)\n",
        "      alice.forward(inputs)\n",
        "      bob.forward(inputs)\n",
        "  \n",
        "      # According to the algorithm, Alice and Bob take a step only when their outputs are identical:\n",
        "      if alice.tau == bob.tau:\n",
        "          data['when_move'].append(1)\n",
        "          alice.update(inputs)\n",
        "          bob.update(inputs)\n",
        "      else:\n",
        "          data['when_move'].append(0)\n",
        "      \n",
        "      ''' The best strategy for an attacker with only 1 TPM:\n",
        "      when Eve gets the same output like Alice- she updates the weights according to the same learning rule.\n",
        "      But, because of the fact that she cannot influence the dynamics between Alice and Bob, she has to do something\n",
        "      even when her output is different, otherwise she does not have a real chance.\n",
        "      So, she looks for the perceptron with the minimal absolute field and flips it (it has the less \"confidence\").\n",
        "      Now, her output becomes identical to Alice's output and she can updates according to the regular learning rule.\n",
        "      '''\n",
        "      eve.forward(inputs)\n",
        "      if eve.tau == alice.tau:\n",
        "          eve.update(inputs)\n",
        "      else:\n",
        "          min_field_index = np.argmin(np.abs(eve.fields))\n",
        "          eve.sigmas[min_field_index] *= -1 # flips a field\n",
        "          eve.tau *= -1 # now, flips the output\n",
        "          eve.update(inputs)\n",
        "    print(f\" finished {100*(i+1)/num_sys}% of the runtime\")\n",
        "    data['corr_alice_eve'].append(correlation_calc(alice.w, eve.w))\n",
        "    data['attacker_time'].append(count_steps)"
      ],
      "execution_count": null,
      "outputs": []
    },
    {
      "cell_type": "code",
      "metadata": {
        "id": "k_f1c6mbgSQJ"
      },
      "source": [
        "# linik = {k:[d[k] for d in data] for k in data[0]}"
      ],
      "execution_count": null,
      "outputs": []
    },
    {
      "cell_type": "code",
      "metadata": {
        "colab": {
          "base_uri": "https://localhost:8080/"
        },
        "id": "hUv36IYnJBh1",
        "outputId": "669c1826-8b5d-423c-d68a-7726527cb6ee"
      },
      "source": [
        "print(f\" The average synchronization time between Alice and bob is {np.mean(data['sync_time']):.3f} steps with std of {np.std(data['sync_time']):.3f}\")\n",
        "print(f\" The average learning time between of Eve is {np.mean(data['attacker_time']):.3f} steps with std of {np.std(data['attacker_time']):.3f}\")"
      ],
      "execution_count": null,
      "outputs": [
        {
          "output_type": "stream",
          "name": "stdout",
          "text": [
            " The average synchronization time between Alice and bob is 240.370 steps with std of 84.745\n",
            " The average learning time between of Eve is 638.280 steps with std of 356.943\n"
          ]
        }
      ]
    },
    {
      "cell_type": "markdown",
      "metadata": {
        "id": "Dp1_kPKmQQwN"
      },
      "source": [
        "First, we plot a histogram of the synchronization time between Alice and bob like in the original paper:"
      ]
    },
    {
      "cell_type": "code",
      "metadata": {
        "colab": {
          "base_uri": "https://localhost:8080/",
          "height": 313
        },
        "id": "W5qsNLAXMpsL",
        "outputId": "4431cb0f-4c4d-42be-cf00-f8ab09bbc875"
      },
      "source": [
        "plt.figure()\n",
        "plt.hist(data['sync_time'], color = \"blue\", bins = 20)\n",
        "plt.title('Histogram of the sync. time between A & B')\n",
        "plt.xlabel(\"sync. time\")\n",
        "plt.ylabel(\"amount\")\n",
        "plt.plot()"
      ],
      "execution_count": null,
      "outputs": [
        {
          "output_type": "execute_result",
          "data": {
            "text/plain": [
              "[]"
            ]
          },
          "metadata": {},
          "execution_count": 35
        },
        {
          "output_type": "display_data",
          "data": {
            "image/png": "[encoded data removed]",
            "text/plain": [
              "<Figure size 432x288 with 1 Axes>"
            ]
          },
          "metadata": {
            "needs_background": "light"
          }
        }
      ]
    },
    {
      "cell_type": "markdown",
      "metadata": {
        "id": "pTyGlcGy45o3"
      },
      "source": [
        "We want to see that Eve didn't succeed to converge faster than Alice and Bob:"
      ]
    },
    {
      "cell_type": "code",
      "metadata": {
        "colab": {
          "base_uri": "https://localhost:8080/",
          "height": 313
        },
        "id": "jvgcbQZMQpgL",
        "outputId": "38211c10-5837-4579-94a3-6dc4d13639a8"
      },
      "source": [
        "plt.hist(data['attacker_time'], color = \"red\",  bins = 20)\n",
        "plt.title(\"Histogram of the attacker's learning time\")\n",
        "plt.xlabel(\"learning time\")\n",
        "plt.ylabel(\"amount\")\n",
        "plt.plot(c = 'red')"
      ],
      "execution_count": null,
      "outputs": [
        {
          "output_type": "execute_result",
          "data": {
            "text/plain": [
              "[]"
            ]
          },
          "metadata": {},
          "execution_count": 39
        },
        {
          "output_type": "display_data",
          "data": {
            "image/png": "[encoded data removed]",
            "text/plain": [
              "<Figure size 432x288 with 1 Axes>"
            ]
          },
          "metadata": {
            "needs_background": "light"
          }
        }
      ]
    },
    {
      "cell_type": "markdown",
      "metadata": {
        "id": "zuRqSEboLbxk"
      },
      "source": [
        "Actually, more importantly than the number of steps until convergence is **the ratio** between the attacker time and the synchronization time."
      ]
    },
    {
      "cell_type": "code",
      "metadata": {
        "colab": {
          "base_uri": "https://localhost:8080/",
          "height": 332
        },
        "id": "HQLjF6R7CaGE",
        "outputId": "9efe4b4f-7db4-4c9d-896e-36c32f316e75"
      },
      "source": [
        "ratio_attack_sync = [i/j for i, j in zip(data['attacker_time'], data['sync_time'])]\n",
        "data['ratio_attack_sync'] = ratio_attack_sync\n",
        "\n",
        "plt.figure()\n",
        "plt.hist(ratio_attack_sync, color = \"orange\", bins = 20)\n",
        "plt.title('Ratio between the attacker learning time and the synchronization time')\n",
        "plt.xlabel(\"correlation\")\n",
        "plt.ylabel(\"amount\")\n",
        "plt.plot()\n",
        "\n",
        "print(f\" The average ratio between the attacker learning time and the synchronization time is {np.mean(ratio_attack_sync):.3f} with std of {np.std(ratio_attack_sync):.3f}\")\n",
        "print(f\" The minimal ratio  is {np.min(ratio_attack_sync):.3f}\")"
      ],
      "execution_count": null,
      "outputs": [
        {
          "output_type": "stream",
          "name": "stdout",
          "text": [
            " The average ratio between the attacker learning time and the synchronization time is 2.901 with std of 2.137\n",
            " The minimal ratio  is 1.194\n"
          ]
        },
        {
          "output_type": "display_data",
          "data": {
            "image/png": "[encoded data removed]",
            "text/plain": [
              "<Figure size 432x288 with 1 Axes>"
            ]
          },
          "metadata": {
            "needs_background": "light"
          }
        }
      ]
    },
    {
      "cell_type": "markdown",
      "metadata": {
        "id": "uc2LboBi5Zl0"
      },
      "source": [
        "One can say that maybe if we know the initial state of Alice's weights we can evaluate where she will end.\n",
        "<br> Therefore, we calculate the correlation between Alice's initial and her final weights:"
      ]
    },
    {
      "cell_type": "code",
      "metadata": {
        "colab": {
          "base_uri": "https://localhost:8080/",
          "height": 313
        },
        "id": "ldi96l93JAic",
        "outputId": "2bc05891-31ea-4bb6-cdc2-9aef99ebe8d5"
      },
      "source": [
        "plt.figure()\n",
        "plt.hist(data['corr_alice'], color = \"grey\", bins = 20)\n",
        "plt.title('Histogram of the correaltion between the initial and the final weights of Alice')\n",
        "plt.xlabel(\"correlation\")\n",
        "plt.ylabel(\"amount\")\n",
        "plt.plot()\n",
        "\n",
        "print(f\" The average correlation between Alice's initial and final weights is {np.mean(data['corr_alice']):.3f} steps with std of {np.std(data['corr_alice']):.3f}\")"
      ],
      "execution_count": null,
      "outputs": [
        {
          "output_type": "stream",
          "name": "stdout",
          "text": [
            " The average correlation between Alice's initial and final weights is -0.015 steps with std of 0.167\n"
          ]
        },
        {
          "output_type": "display_data",
          "data": {
            "image/png": "[encoded data removed]",
            "text/plain": [
              "<Figure size 432x288 with 1 Axes>"
            ]
          },
          "metadata": {
            "needs_background": "light"
          }
        }
      ]
    },
    {
      "cell_type": "markdown",
      "metadata": {
        "id": "_IV9S-n2PCZl"
      },
      "source": [
        "### currently it is not working (after adding 'data'):\n",
        "The following graphs confirm the assumption that as the correlation between Alice's and Bob's weights higher, the probability to get the same output is higher."
      ]
    },
    {
      "cell_type": "code",
      "metadata": {
        "id": "UnZju-iZIS89"
      },
      "source": [
        "# sliding window\n",
        "window_size = 50\n",
        "chance = []\n",
        "for i in range(len(data['when_move'])-window_size+1):\n",
        "    chance.append(data[0]['when_move'][i, i + window_size].sum()/window_size)\n",
        "\n",
        "plt.figure()\n",
        "plt.title('The probability to take a step vs. time')\n",
        "plt.xlabel(\"time\")\n",
        "plt.ylabel(\"probability\")\n",
        "plt.plot(range(len(chance)), chance, c = 'green')\n",
        "plt.scatter(int(sync_time[0, -1]), chance[int(sync_time[0, -1])], c = 'red', s = 10, linewidth = 5)"
      ],
      "execution_count": null,
      "outputs": []
    },
    {
      "cell_type": "code",
      "metadata": {
        "colab": {
          "base_uri": "https://localhost:8080/"
        },
        "id": "48rAQqzy1f8x",
        "outputId": "52a3a74f-a8bc-417e-bbdd-c69362ca35be"
      },
      "source": [
        "len(data['when_move'])"
      ],
      "execution_count": null,
      "outputs": [
        {
          "output_type": "execute_result",
          "data": {
            "text/plain": [
              "63828"
            ]
          },
          "metadata": {},
          "execution_count": 53
        }
      ]
    },
    {
      "cell_type": "code",
      "metadata": {
        "colab": {
          "base_uri": "https://localhost:8080/"
        },
        "id": "3HCBD2XV2Lxj",
        "outputId": "b13319b4-c356-479b-ece5-761e85c0cd7d"
      },
      "source": [
        "summ = 0\n",
        "sum(data['attacker_time'])\n"
      ],
      "execution_count": null,
      "outputs": [
        {
          "output_type": "execute_result",
          "data": {
            "text/plain": [
              "63828"
            ]
          },
          "metadata": {},
          "execution_count": 64
        }
      ]
    },
    {
      "cell_type": "code",
      "metadata": {
        "colab": {
          "base_uri": "https://localhost:8080/",
          "height": 172
        },
        "id": "hrMGiK8U2e6_",
        "outputId": "195f61fd-42c4-4b64-d158-db0d4c2030db"
      },
      "source": [
        "print(summ)"
      ],
      "execution_count": null,
      "outputs": [
        {
          "output_type": "error",
          "ename": "NameError",
          "evalue": "ignored",
          "traceback": [
            "\u001b[0;31m---------------------------------------------------------------------------\u001b[0m",
            "\u001b[0;31mNameError\u001b[0m                                 Traceback (most recent call last)",
            "\u001b[0;32m<ipython-input-60-6df525ab55d3>\u001b[0m in \u001b[0;36m<module>\u001b[0;34m()\u001b[0m\n\u001b[0;32m----> 1\u001b[0;31m \u001b[0mprint\u001b[0m\u001b[0;34m(\u001b[0m\u001b[0msumm\u001b[0m\u001b[0;34m)\u001b[0m\u001b[0;34m\u001b[0m\u001b[0;34m\u001b[0m\u001b[0m\n\u001b[0m",
            "\u001b[0;31mNameError\u001b[0m: name 'summ' is not defined"
          ]
        }
      ]
    },
    {
      "cell_type": "markdown",
      "metadata": {
        "id": "Qj_n1_HFQSL3"
      },
      "source": [
        "The correlation between Alice and Bob vs Alice and Eve over the learing time"
      ]
    },
    {
      "cell_type": "code",
      "metadata": {
        "id": "wDJkVJn2Qc_3"
      },
      "source": [
        "# plt.figure()\n",
        "# plt.hist(np.resize(corr_alice_bob, (num_sys,)), color = \"grey\", bins = 20)\n",
        "# plt.title('Histogram of the correaltion between the initial and the final weights of Alice')\n",
        "# plt.xlabel(\"correlation\")\n",
        "# plt.ylabel(\"amount\")\n",
        "# plt.plot()\n",
        "\n",
        "# print(f\" The average correlation between Alice's initial and final weights is {np.mean(corr_alice):.3f} steps with std of {np.std(corr_alice):.3f}\")"
      ],
      "execution_count": null,
      "outputs": []
    },
    {
      "cell_type": "code",
      "metadata": {
        "id": "DoNo2PoML5mu"
      },
      "source": [
        "def entropy_calc(arr):\n",
        "  "
      ],
      "execution_count": null,
      "outputs": []
    },
    {
      "cell_type": "code",
      "metadata": {
        "id": "LYSNN4ahB032"
      },
      "source": [
        "print(data[0]['when_move'][0:6])"
      ],
      "execution_count": null,
      "outputs": []
    },
    {
      "cell_type": "markdown",
      "metadata": {
        "id": "Q3cvIo_xJ3qT"
      },
      "source": [
        "### Graphs we want to show:\n",
        "1. Histogram of the synchronization time between Alice and bob. --- done!\n",
        "2. The chance of A&B to take a step (sliding window) --- done! (I think...)\n",
        "3. The correlation between A&B over the learning time (vs. the attacker's correlation)\n",
        "4. Show how the sync time depends on the constants (N, L, K)- \"errorbar\"\n",
        "5. To show that the final weights are not correlated to the initial weights.\n",
        "6. examine how inputs in [-M, M] affects the information we can get from the final weights."
      ]
    }
  ]
}