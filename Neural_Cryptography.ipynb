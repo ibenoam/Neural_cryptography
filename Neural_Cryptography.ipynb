{
  "nbformat": 4,
  "nbformat_minor": 0,
  "metadata": {
    "colab": {
      "name": "Neural-Cryptography.ipynb",
      "provenance": [],
      "collapsed_sections": [],
      "include_colab_link": true
    },
    "kernelspec": {
      "name": "python3",
      "display_name": "Python 3"
    },
    "language_info": {
      "name": "python"
    }
  },
  "cells": [
    {
      "cell_type": "markdown",
      "metadata": {
        "id": "view-in-github",
        "colab_type": "text"
      },
      "source": [
        "<a href=\"https://colab.research.google.com/github/ibenoam/Neural_cryptography/blob/main/Neural_Cryptography.ipynb\" target=\"_parent\"><img src=\"https://colab.research.google.com/assets/colab-badge.svg\" alt=\"Open In Colab\"/></a>"
      ]
    },
    {
      "cell_type": "markdown",
      "metadata": {
        "id": "GG2QRa_aMZht"
      },
      "source": [
        "# Neural-Cryptography:\n",
        "### Solving the key exchange problem by synchronize Tree Parity Machines"
      ]
    },
    {
      "cell_type": "code",
      "metadata": {
        "id": "3EOscj-MM5Ii"
      },
      "source": [
        "import numpy as np\n",
        "import matplotlib.pyplot as plt\n",
        "import copy # ?\n",
        "import pdb"
      ],
      "execution_count": 2,
      "outputs": []
    },
    {
      "cell_type": "markdown",
      "metadata": {
        "id": "aAXIiQfnBZmD"
      },
      "source": [
        "Lets define our Tree-Parity Machine (TPM) class:"
      ]
    },
    {
      "cell_type": "code",
      "metadata": {
        "id": "cCrSehcOKosp"
      },
      "source": [
        "class TPM:\n",
        "  def __init__(self,N,K,L,M=1):\n",
        "    # Constants:\n",
        "    self.N = N\n",
        "    self.K = K\n",
        "    self.L = L\n",
        "    self.M = M\n",
        "\n",
        "    # Initialization:\n",
        "    self.w = np.floor((2*L+1) * np.random.rand(N,K)) - L\n",
        "    self.init_w = copy.deepcopy(self.w)\n",
        "    self.fields = np.zeros((1,K))\n",
        "    self.sigmas = np.zeros((1,K))\n",
        "    self.tau = 0\n",
        "\n",
        "    # The feed-forward process:\n",
        "  def forward(self,input):\n",
        "    self.fields = np.sum(self.w*input, axis=0)\n",
        "    self.sigmas = np.sign(self.fields + 1e-10)\n",
        "    self.tau = np.prod(self.sigmas)\n",
        "  \n",
        "    # updating the weights:\n",
        "  def update(self,input):\n",
        "    update_indexes = np.where(self.sigmas == self.tau)\n",
        "    self.w[:,update_indexes] += input[:,update_indexes]\n",
        "    self.w[np.abs(self.w)>self.L] = np.sign(self.w[np.abs(self.w)>self.L])*self.L\n"
      ],
      "execution_count": 6,
      "outputs": []
    },
    {
      "cell_type": "code",
      "metadata": {
        "id": "6vFuWk0HRx8U"
      },
      "source": [
        "# This function gets two sets of weights (flatten each of them to a vector), and calculates the correlation between them (or the cosinus between them).\n",
        "def correlation_calc(w1, w2):\n",
        "  w1 = np.transpose(w1.flatten())\n",
        "  w2 = w2.flatten()\n",
        "  corr_val = (w1 @ w2) / (np.linalg.norm(w1) * np.linalg.norm(w2))\n",
        "  return corr_val"
      ],
      "execution_count": 7,
      "outputs": []
    },
    {
      "cell_type": "markdown",
      "metadata": {
        "id": "F7SUhaNjsIeX"
      },
      "source": [
        "Now, we define a few constants and initialize a list of dictionaries.\n",
        "<br> Each dictionary has the following kyes:\n",
        "\n",
        "\n",
        "*   'sync_time': number of steps until Alice and Bob succeed to converge.\n",
        "*   'attacker_time': number of steps until Eve is needed to converge.\n",
        "*   'corr_alice'/('corr_bob'): the correlation between Alice's/(Bob's) final weights and the initial weights.\n",
        "*   'corr_alice_bob': the correlation over time between Alice and Bob weights.\n",
        "*   'corr_alice_eve': the correlation over time between Alice and Eve weights.\n"
      ]
    },
    {
      "cell_type": "code",
      "metadata": {
        "id": "Lc3YuucVMSgw"
      },
      "source": [
        "N = 100 # each N input neurons goes to 1 hidden neuron\n",
        "L = 3 # the \"synaptic\" depth\n",
        "K = 3 # number of perceptrons (or hidden layer size)\n",
        "M = 1 # the input consists of integers between -M to M (without zero)\n",
        "\n",
        "num_sys = 50 # we average each result \"num_sys\" times\n",
        "\n",
        "sync_time = np.zeros((1,num_sys))\n",
        "attacker_time = np.zeros((1,num_sys))\n",
        "\n",
        "# corr_alice = np.zeros((1,num_sys))\n",
        "# corr_bob = np.zeros((1,num_sys))\n",
        "# corr_alice_bob = np.zeros((1,num_sys))\n",
        "# corr_alice_eve = np.zeros((1,num_sys))\n",
        "\n",
        "data = [{'sync_time': int(), 'attacker_time': int(), 'corr_alice': float(), 'corr_bob': float(), 'corr_alice_bob': [], 'corr_alice_eve': [], 'when_move': []} for _ in range(num_sys)]\n"
      ],
      "execution_count": 56,
      "outputs": []
    },
    {
      "cell_type": "code",
      "metadata": {
        "id": "mbvCtvUfNkf9"
      },
      "source": [
        "for i in range(num_sys):\n",
        "\n",
        "    flag = True\n",
        "    # Creates the objects from the \"TPM\" class:\n",
        "    alice = TPM(N,K,L)\n",
        "    bob = TPM(N,K,L)\n",
        "    # Creates the attacker's TPM:\n",
        "    eve = TPM(N,K,L)\n",
        "\n",
        "    count_steps = 0\n",
        "    \n",
        "    # while not np.array_equal(alice.w,bob.w):\n",
        "    while not np.array_equal(alice.w,eve.w):\n",
        "      # print(f\"After {count_steps} steps.\")\n",
        "      count_steps += 1\n",
        "      if flag:\n",
        "          data[i]['corr_alice_bob'].append(correlation_calc(alice.w, bob.w))\n",
        "\n",
        "          if np.array_equal(alice.w,bob.w): # and flag\n",
        "                data[i]['sync_time'] = count_steps\n",
        "                data[i]['corr_alice'] = correlation_calc(alice.init_w, alice.w)\n",
        "                data[i]['corr_bob'] = correlation_calc(bob.init_w, bob.w)\n",
        "                flag = False\n",
        "\n",
        "      inputs = np.sign(np.random.rand(N,K)-0.5)\n",
        "      alice.forward(inputs)\n",
        "      bob.forward(inputs)\n",
        "  \n",
        "      # According to the algorithm, Alice and Bob take a step only when their outputs are identical:\n",
        "      if alice.tau == bob.tau:\n",
        "          data[i]['when_move'].append(1)\n",
        "          alice.update(inputs)\n",
        "          bob.update(inputs)\n",
        "      else:\n",
        "          data[i]['when_move'].append(0)\n",
        "      \n",
        "      ''' The best strategy for an attacker with only 1 TPM:\n",
        "      when Eve gets the same output like Alice- she updates the weights according to the same learning rule.\n",
        "      But, because of the fact that she cannot influence the dynamics between Alice and Bob, she has to do something\n",
        "      even when her output is different, otherwise she does not have a real chance.\n",
        "      So, she looks for the perceptron with the minimal absolute field and flips it (it has the less \"confidence\").\n",
        "      Now, her output becomes identical to Alice's output and she can updates according to the regular learning rule.\n",
        "      '''\n",
        "      eve.forward(inputs)\n",
        "      if eve.tau == alice.tau:\n",
        "          eve.update(inputs)\n",
        "      else:\n",
        "          min_field_index = np.argmin(np.abs(eve.fields))\n",
        "          eve.sigmas[min_field_index] *= -1 # flips a field\n",
        "          eve.tau *= -1 # now, flips the output\n",
        "          eve.update(inputs)\n",
        "    print(f\" finished {100*(i+1)/num_sys}% of the runtime\")\n",
        "    data[i]['corr_alice_eve'].append(correlation_calc(alice.w, eve.w))\n",
        "    data[i]['attacker_time'] = count_steps"
      ],
      "execution_count": null,
      "outputs": []
    },
    {
      "cell_type": "code",
      "metadata": {
        "colab": {
          "base_uri": "https://localhost:8080/"
        },
        "id": "hUv36IYnJBh1",
        "outputId": "e53004d3-bc4a-4df3-9b76-317b612864ca"
      },
      "source": [
        "sync_time = np.zeros((1, num_sys))\n",
        "attacker_time = np.zeros((1,num_sys))\n",
        "corr_alice = np.zeros((1,num_sys))\n",
        "for i in range(num_sys):\n",
        "    sync_time[0, i] = data[i]['sync_time']\n",
        "    attacker_time[0, i] = data[i]['attacker_time']\n",
        "    corr_alice[0, i] = data[i]['corr_alice']\n",
        "\n",
        "print(f\" The average synchronization time between Alice and bob is {np.mean(sync_time):.3f} steps with std of {np.std(sync_time):.3f}\")\n",
        "print(f\" The average learning time between of Eve is {np.mean(attacker_time):.3f} steps with std of {np.std(attacker_time):.3f}\")"
      ],
      "execution_count": 64,
      "outputs": [
        {
          "output_type": "stream",
          "name": "stdout",
          "text": [
            " The average synchronization time between Alice and bob is 348.640 steps with std of 110.469\n",
            " The average learning time between of Eve is 1844.340 steps with std of 1411.226\n"
          ]
        }
      ]
    },
    {
      "cell_type": "markdown",
      "metadata": {
        "id": "Dp1_kPKmQQwN"
      },
      "source": [
        "First, we plot a histogram of the synchronization time between Alice and bob like in the original paper:"
      ]
    },
    {
      "cell_type": "code",
      "metadata": {
        "colab": {
          "base_uri": "https://localhost:8080/",
          "height": 312
        },
        "id": "W5qsNLAXMpsL",
        "outputId": "c5a630d0-dc53-4487-cee0-ff5873dfc70f"
      },
      "source": [
        "plt.figure()\n",
        "plt.hist(np.resize(sync_time, (num_sys,)), color = \"blue\", bins = 20)\n",
        "plt.title('Histogram of the sync. time between A & B')\n",
        "plt.xlabel(\"sync. time\")\n",
        "plt.ylabel(\"amount\")\n",
        "plt.plot()"
      ],
      "execution_count": 60,
      "outputs": [
        {
          "output_type": "execute_result",
          "data": {
            "text/plain": [
              "[]"
            ]
          },
          "metadata": {},
          "execution_count": 60
        },
        {
          "output_type": "display_data",
          "data": {
            "image/png": "[encoded data removed]",
            "text/plain": [
              "<Figure size 432x288 with 1 Axes>"
            ]
          },
          "metadata": {
            "needs_background": "light"
          }
        }
      ]
    },
    {
      "cell_type": "markdown",
      "metadata": {
        "id": "pTyGlcGy45o3"
      },
      "source": [
        "We want to see that Eve didn't succeed to converge faster than Alice and Bob:"
      ]
    },
    {
      "cell_type": "code",
      "metadata": {
        "colab": {
          "base_uri": "https://localhost:8080/",
          "height": 312
        },
        "id": "jvgcbQZMQpgL",
        "outputId": "daa2bb3e-8a97-4a4e-aff9-fc11e976a4f5"
      },
      "source": [
        "plt.hist(np.resize(attacker_time, (num_sys,)), color = \"red\",  bins = 20)\n",
        "plt.title(\"Histogram of the attacker's learning time\")\n",
        "plt.xlabel(\"sync. time\")\n",
        "plt.ylabel(\"amount\")\n",
        "plt.plot(c = 'red')"
      ],
      "execution_count": 61,
      "outputs": [
        {
          "output_type": "execute_result",
          "data": {
            "text/plain": [
              "[]"
            ]
          },
          "metadata": {},
          "execution_count": 61
        },
        {
          "output_type": "display_data",
          "data": {
            "image/png": "[encoded data removed]",
            "text/plain": [
              "<Figure size 432x288 with 1 Axes>"
            ]
          },
          "metadata": {
            "needs_background": "light"
          }
        }
      ]
    },
    {
      "cell_type": "markdown",
      "metadata": {
        "id": "zuRqSEboLbxk"
      },
      "source": [
        "Actually, more importantly than the number of steps until convergence is **the ratio** between the attacker time and the synchronization time."
      ]
    },
    {
      "cell_type": "code",
      "metadata": {
        "colab": {
          "base_uri": "https://localhost:8080/",
          "height": 329
        },
        "id": "HQLjF6R7CaGE",
        "outputId": "280d8c1d-1327-4b65-b925-b90ffb84997a"
      },
      "source": [
        "ratio_attack_sync = attacker_time / sync_time\n",
        "\n",
        "plt.figure()\n",
        "plt.hist(np.resize(ratio_attack_sync, (num_sys,)), color = \"orange\", bins = 20)\n",
        "plt.title('Ratio between the attacker learning time and the synchronization time')\n",
        "plt.xlabel(\"correlation\")\n",
        "plt.ylabel(\"amount\")\n",
        "plt.plot()\n",
        "\n",
        "print(f\" The average ratio between the attacker learning time and the synchronization time is {np.mean(ratio_attack_sync):.3f} with std of {np.std(ratio_attack_sync):.3f}\")\n",
        "print(f\" The minimal ratio  is {np.min(ratio_attack_sync):.3f}\")"
      ],
      "execution_count": 62,
      "outputs": [
        {
          "output_type": "stream",
          "name": "stdout",
          "text": [
            " The average ratio between the attacker learning time and the synchronization time is 5.540 with std of 4.178\n",
            " The minimal ratio  is 1.203\n"
          ]
        },
        {
          "output_type": "display_data",
          "data": {
            "image/png": "[encoded data removed]",
            "text/plain": [
              "<Figure size 432x288 with 1 Axes>"
            ]
          },
          "metadata": {
            "needs_background": "light"
          }
        }
      ]
    },
    {
      "cell_type": "markdown",
      "metadata": {
        "id": "uc2LboBi5Zl0"
      },
      "source": [
        "One can say that maybe if we know the initial state of Alice's weights we can evaluate where she will end.\n",
        "<br> Therefore, we calculate the correlation between Alice's initial and her final weights:"
      ]
    },
    {
      "cell_type": "code",
      "metadata": {
        "colab": {
          "base_uri": "https://localhost:8080/",
          "height": 312
        },
        "id": "ldi96l93JAic",
        "outputId": "ad6beab4-f5f6-4beb-bfd5-4d0041ae8c81"
      },
      "source": [
        "plt.figure()\n",
        "plt.hist(np.resize(corr_alice, (num_sys,)), color = \"grey\", bins = 20)\n",
        "plt.title('Histogram of the correaltion between the initial and the final weights of Alice')\n",
        "plt.xlabel(\"correlation\")\n",
        "plt.ylabel(\"amount\")\n",
        "plt.plot()\n",
        "\n",
        "print(f\" The average correlation between Alice's initial and final weights is {np.mean(corr_alice):.3f} steps with std of {np.std(corr_alice):.3f}\")"
      ],
      "execution_count": 65,
      "outputs": [
        {
          "output_type": "stream",
          "name": "stdout",
          "text": [
            " The average correlation between Alice's initial and final weights is -0.005 steps with std of 0.058\n"
          ]
        },
        {
          "output_type": "display_data",
          "data": {
            "image/png": "[encoded data removed]",
            "text/plain": [
              "<Figure size 432x288 with 1 Axes>"
            ]
          },
          "metadata": {
            "needs_background": "light"
          }
        }
      ]
    },
    {
      "cell_type": "markdown",
      "metadata": {
        "id": "_IV9S-n2PCZl"
      },
      "source": [
        "### currently it is not working (after adding 'data'):\n",
        "The following graphs confirm the assumption that as the correlation between Alice's and Bob's weights higher, the probability to get the same output is higher."
      ]
    },
    {
      "cell_type": "code",
      "metadata": {
        "id": "UnZju-iZIS89",
        "colab": {
          "base_uri": "https://localhost:8080/",
          "height": 231
        },
        "outputId": "8ec9a850-21c1-4304-c949-a0f46a31e3a5"
      },
      "source": [
        "# sliding window\n",
        "window_size = 50\n",
        "chance = []\n",
        "for i in range(len(data[0]['when_move'])-window_size+1):\n",
        "    chance.append(data[0]['when_move'][i, i + window_size].sum()/window_size)\n",
        "\n",
        "plt.figure()\n",
        "plt.title('The probability to take a step vs. time')\n",
        "plt.xlabel(\"time\")\n",
        "plt.ylabel(\"probability\")\n",
        "plt.plot(range(len(chance)), chance, c = 'green')\n",
        "plt.scatter(int(sync_time[0, -1]), chance[int(sync_time[0, -1])], c = 'red', s = 10, linewidth = 5)"
      ],
      "execution_count": 73,
      "outputs": [
        {
          "output_type": "error",
          "ename": "TypeError",
          "evalue": "ignored",
          "traceback": [
            "\u001b[0;31m---------------------------------------------------------------------------\u001b[0m",
            "\u001b[0;31mTypeError\u001b[0m                                 Traceback (most recent call last)",
            "\u001b[0;32m<ipython-input-73-e36de7e6427f>\u001b[0m in \u001b[0;36m<module>\u001b[0;34m()\u001b[0m\n\u001b[1;32m      3\u001b[0m \u001b[0mchance\u001b[0m \u001b[0;34m=\u001b[0m \u001b[0;34m[\u001b[0m\u001b[0;34m]\u001b[0m\u001b[0;34m\u001b[0m\u001b[0;34m\u001b[0m\u001b[0m\n\u001b[1;32m      4\u001b[0m \u001b[0;32mfor\u001b[0m \u001b[0mi\u001b[0m \u001b[0;32min\u001b[0m \u001b[0mrange\u001b[0m\u001b[0;34m(\u001b[0m\u001b[0mlen\u001b[0m\u001b[0;34m(\u001b[0m\u001b[0mdata\u001b[0m\u001b[0;34m[\u001b[0m\u001b[0;36m0\u001b[0m\u001b[0;34m]\u001b[0m\u001b[0;34m[\u001b[0m\u001b[0;34m'when_move'\u001b[0m\u001b[0;34m]\u001b[0m\u001b[0;34m)\u001b[0m\u001b[0;34m-\u001b[0m\u001b[0mwindow_size\u001b[0m\u001b[0;34m+\u001b[0m\u001b[0;36m1\u001b[0m\u001b[0;34m)\u001b[0m\u001b[0;34m:\u001b[0m\u001b[0;34m\u001b[0m\u001b[0;34m\u001b[0m\u001b[0m\n\u001b[0;32m----> 5\u001b[0;31m     \u001b[0mchance\u001b[0m\u001b[0;34m.\u001b[0m\u001b[0mappend\u001b[0m\u001b[0;34m(\u001b[0m\u001b[0mdata\u001b[0m\u001b[0;34m[\u001b[0m\u001b[0;36m0\u001b[0m\u001b[0;34m]\u001b[0m\u001b[0;34m[\u001b[0m\u001b[0;34m'when_move'\u001b[0m\u001b[0;34m]\u001b[0m\u001b[0;34m[\u001b[0m\u001b[0mi\u001b[0m\u001b[0;34m,\u001b[0m \u001b[0mi\u001b[0m \u001b[0;34m+\u001b[0m \u001b[0mwindow_size\u001b[0m\u001b[0;34m]\u001b[0m\u001b[0;34m.\u001b[0m\u001b[0msum\u001b[0m\u001b[0;34m(\u001b[0m\u001b[0;34m)\u001b[0m\u001b[0;34m/\u001b[0m\u001b[0mwindow_size\u001b[0m\u001b[0;34m)\u001b[0m\u001b[0;34m\u001b[0m\u001b[0;34m\u001b[0m\u001b[0m\n\u001b[0m\u001b[1;32m      6\u001b[0m \u001b[0;34m\u001b[0m\u001b[0m\n\u001b[1;32m      7\u001b[0m \u001b[0mplt\u001b[0m\u001b[0;34m.\u001b[0m\u001b[0mfigure\u001b[0m\u001b[0;34m(\u001b[0m\u001b[0;34m)\u001b[0m\u001b[0;34m\u001b[0m\u001b[0;34m\u001b[0m\u001b[0m\n",
            "\u001b[0;31mTypeError\u001b[0m: list indices must be integers or slices, not tuple"
          ]
        }
      ]
    },
    {
      "cell_type": "markdown",
      "metadata": {
        "id": "Qj_n1_HFQSL3"
      },
      "source": [
        "The correlation between Alice and Bob vs Alice and Eve over the learing time"
      ]
    },
    {
      "cell_type": "code",
      "metadata": {
        "colab": {
          "base_uri": "https://localhost:8080/",
          "height": 312
        },
        "id": "wDJkVJn2Qc_3",
        "outputId": "c7feca81-ae29-44d5-d860-b8dfa54cec2f"
      },
      "source": [
        "# plt.figure()\n",
        "# plt.hist(np.resize(corr_alice_bob, (num_sys,)), color = \"grey\", bins = 20)\n",
        "# plt.title('Histogram of the correaltion between the initial and the final weights of Alice')\n",
        "# plt.xlabel(\"correlation\")\n",
        "# plt.ylabel(\"amount\")\n",
        "# plt.plot()\n",
        "\n",
        "# print(f\" The average correlation between Alice's initial and final weights is {np.mean(corr_alice):.3f} steps with std of {np.std(corr_alice):.3f}\")"
      ],
      "execution_count": 14,
      "outputs": [
        {
          "output_type": "stream",
          "name": "stdout",
          "text": [
            " The average correlation between Alice's initial and final weights is -0.002 steps with std of 0.057\n"
          ]
        },
        {
          "output_type": "display_data",
          "data": {
            "image/png": "[encoded data removed]",
            "text/plain": [
              "<Figure size 432x288 with 1 Axes>"
            ]
          },
          "metadata": {
            "needs_background": "light"
          }
        }
      ]
    },
    {
      "cell_type": "code",
      "metadata": {
        "id": "DoNo2PoML5mu"
      },
      "source": [
        "def entropy_calc(arr):\n",
        "  "
      ],
      "execution_count": null,
      "outputs": []
    },
    {
      "cell_type": "code",
      "metadata": {
        "colab": {
          "base_uri": "https://localhost:8080/"
        },
        "id": "LYSNN4ahB032",
        "outputId": "76814ae3-83cb-4860-c452-a3a0d73f70bf"
      },
      "source": [
        "print(data[0]['when_move'][0:6])"
      ],
      "execution_count": 72,
      "outputs": [
        {
          "output_type": "stream",
          "name": "stdout",
          "text": [
            "[1, 1, 1, 1, 1, 0]\n"
          ]
        }
      ]
    },
    {
      "cell_type": "markdown",
      "metadata": {
        "id": "Q3cvIo_xJ3qT"
      },
      "source": [
        "### Graphs we want to show:\n",
        "1. Histogram of the synchronization time between Alice and bob. --- done!\n",
        "2. The chance of A&B to take a step (sliding window) --- done! (I think...)\n",
        "3. The correlation between A&B over the learning time (vs. the attacker's correlation)\n",
        "4. Show how the sync time depends on the constants (N, L, K)- \"errorbar\"\n",
        "5. To show that the final weights are not correlated to the initial weights.\n",
        "6. examine how inputs in [-M, M] affects the information we can get from the final weights."
      ]
    }
  ]
}