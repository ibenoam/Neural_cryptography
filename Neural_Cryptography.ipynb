{
  "nbformat": 4,
  "nbformat_minor": 0,
  "metadata": {
    "colab": {
      "name": "Neural-Cryptography.ipynb",
      "provenance": [],
      "collapsed_sections": [],
      "include_colab_link": true
    },
    "kernelspec": {
      "name": "python3",
      "display_name": "Python 3"
    },
    "language_info": {
      "name": "python"
    }
  },
  "cells": [
    {
      "cell_type": "markdown",
      "metadata": {
        "id": "view-in-github",
        "colab_type": "text"
      },
      "source": [
        "<a href=\"https://colab.research.google.com/github/ibenoam/Neural_cryptography/blob/main/Neural_Cryptography.ipynb\" target=\"_parent\"><img src=\"https://colab.research.google.com/assets/colab-badge.svg\" alt=\"Open In Colab\"/></a>"
      ]
    },
    {
      "cell_type": "markdown",
      "metadata": {
        "id": "GG2QRa_aMZht"
      },
      "source": [
        "# Neural-Cryptography:\n",
        "### Solving the key exchange problem by synchronize Tree Parity Machines"
      ]
    },
    {
      "cell_type": "code",
      "metadata": {
        "id": "3EOscj-MM5Ii"
      },
      "source": [
        "import numpy as np\n",
        "import matplotlib.pyplot as plt"
      ],
      "execution_count": 1,
      "outputs": []
    },
    {
      "cell_type": "code",
      "metadata": {
        "id": "Lc3YuucVMSgw"
      },
      "source": [
        "N = 1000 # each N input neurons goes to 1 hidden neuron\n",
        "L = 3 # the \"synaptic\" depth\n",
        "K = 3 # number of perceptrons (or hidden layer size)\n",
        "M = 1 # the input consists of integers between -M to M (without zero)\n",
        "\n",
        "num_sys = 100 # we average each result \"num_sys\" times\n",
        "\n",
        "step_converage = np.zeros((1,num_sys))\n",
        "sync_time = np.zeros((1,num_sys))\n",
        "attacker_time = np.zeros((1,num_sys))"
      ],
      "execution_count": 38,
      "outputs": []
    },
    {
      "cell_type": "code",
      "metadata": {
        "id": "cCrSehcOKosp"
      },
      "source": [
        "class TPM:\n",
        "  def __init__(self,N,K,L,M=1):\n",
        "    # Constants:\n",
        "    self.N = N\n",
        "    self.K = K\n",
        "    self.L = L\n",
        "    self.M = M\n",
        "\n",
        "    # Initialization:\n",
        "    self.w = np.floor((2*L+1) * np.random.rand(N,K)) - L\n",
        "    self.init_w = self.w\n",
        "    self.fields = np.zeros((1,K))\n",
        "    self.sigmas = np.zeros((1,K))\n",
        "    self.tau = 0\n",
        "\n",
        "    # The feed-forward process:\n",
        "  def forward(self,input):\n",
        "    self.fields = np.sum(self.w*input, axis=0)\n",
        "    self.sigmas = np.sign(self.fields)\n",
        "    self.tau = np.prod(self.sigmas)\n",
        "  \n",
        "    # updating the weights:\n",
        "  def update(self,input):\n",
        "    update_indexes = np.where(self.sigmas == self.tau)\n",
        "    self.w[:,update_indexes] += input[:,update_indexes]\n",
        "    self.w[np.abs(self.w)>self.L] = np.sign(self.w[np.abs(self.w)>self.L])*self.L\n"
      ],
      "execution_count": 39,
      "outputs": []
    },
    {
      "cell_type": "code",
      "metadata": {
        "id": "mbvCtvUfNkf9",
        "colab": {
          "base_uri": "https://localhost:8080/"
        },
        "outputId": "b085a032-fafc-4711-8418-fe093d5853bf"
      },
      "source": [
        "for i in range(num_sys):\n",
        "\n",
        "    # Creates the objects from the \"TPM\" class:\n",
        "    alice = TPM(N,K,L)\n",
        "    bob = TPM(N,K,L)\n",
        "    # Creates the attacker's TPM:\n",
        "    eve = TPM(N,K,L)\n",
        "\n",
        "    when_move = np.array([])\n",
        "    corr_alice_bob = np.array([])\n",
        "    count_steps = 0\n",
        "    while not np.array_equal(alice.w,bob.w):\n",
        "        # print(\"After {} steps.\".format(count_steps))\n",
        "        count_steps += 1\n",
        "        inputs = np.sign(np.random.rand(N,K)-0.5)\n",
        "        alice.forward(inputs)\n",
        "        bob.forward(inputs)\n",
        "    \n",
        "        # According to the algorithm, Alice and Bob take a step only when their outputs are identical:\n",
        "        if alice.tau == bob.tau:\n",
        "            when_move=np.append(when_move,1)\n",
        "            alice.update(inputs)\n",
        "            bob.update(inputs)\n",
        "            # corr_alice_bob=np.append(corr_alice_bob,np.corrcoef(alice.w[:], bob.w[:]))\n",
        "        else:\n",
        "            when_move=np.append(when_move,0)\n",
        "        \n",
        "        ''' The best strategy for an attacker with only 1 TPM:\n",
        "        when Eve gets the same output like Alice- she updates the weights according to the same learning rule.\n",
        "        But, because of the fact that she cannot influence the dynamics between Alice and Bob, she has to do something\n",
        "        even when her output is different, otherwise she does not have a real chance.\n",
        "        So, she looks for the perceptron with the minimal absolute field and flips it (it has the less \"confidence\").\n",
        "        Now, her output becomes identical to Alice's output and she can update according to the regular learning rule.\n",
        "        '''\n",
        "        if eve.tau == alice.tau:\n",
        "            eve.update(inputs)\n",
        "        else:\n",
        "            min_field_index = np.argmin(np.abs(eve.fields))\n",
        "            eve.sigmas[min_field_index] *= -1 # flips a field\n",
        "            eve.tau *= -1 # now, flips the output\n",
        "            eve.update(inputs)\n",
        "\n",
        "    # print(\" finished {}% of the runtime\".format(100*(i+1)/num_sys))\n",
        "    sync_time[0, i] = count_steps\n",
        "print(\" The average synchronization time between Alice and bob is {} steps with std of {}\".format(np.mean(sync_time), np.std(sync_time)))"
      ],
      "execution_count": 40,
      "outputs": [
        {
          "output_type": "stream",
          "name": "stdout",
          "text": [
            " The average synchronization time between Alice and bob is 409.85 steps with std of 109.45230696518003\n"
          ]
        }
      ]
    },
    {
      "cell_type": "markdown",
      "metadata": {
        "id": "Dp1_kPKmQQwN"
      },
      "source": [
        "First, we plotted a histogram of the synchronization time between Alice and bob like in the original paper."
      ]
    },
    {
      "cell_type": "code",
      "metadata": {
        "colab": {
          "base_uri": "https://localhost:8080/",
          "height": 294
        },
        "id": "W5qsNLAXMpsL",
        "outputId": "28459101-c521-4c10-9808-5c784af7daec"
      },
      "source": [
        "plt.hist(np.resize(sync_time, (num_sys,)), bins = 20)\n",
        "plt.title('Histogram of the sync. time between A & B')\n",
        "plt.xlabel(\"sync. time\")\n",
        "plt.ylabel(\"amount\")\n",
        "plt.show()"
      ],
      "execution_count": 41,
      "outputs": [
        {
          "output_type": "display_data",
          "data": {
            "image/png": "[encoded data removed]",
            "text/plain": [
              "<Figure size 432x288 with 1 Axes>"
            ]
          },
          "metadata": {
            "needs_background": "light"
          }
        }
      ]
    },
    {
      "cell_type": "code",
      "metadata": {
        "id": "dVi0N458ZVC9"
      },
      "source": [
        "a = np.array([1, 2, 3, 4])\n",
        "b = np.array([1, 2, 3, 4])\n",
        "print(np.correlate(a, b))\n"
      ],
      "execution_count": null,
      "outputs": []
    },
    {
      "cell_type": "code",
      "metadata": {
        "id": "DoNo2PoML5mu"
      },
      "source": [
        "def entropy_calc(arr):\n",
        "  "
      ],
      "execution_count": null,
      "outputs": []
    },
    {
      "cell_type": "code",
      "metadata": {
        "colab": {
          "base_uri": "https://localhost:8080/"
        },
        "id": "FEmodYz3SnfG",
        "outputId": "489acc8b-39e5-43be-9a32-c43b821e2f1c"
      },
      "source": [
        "print(sync_time)"
      ],
      "execution_count": null,
      "outputs": [
        {
          "output_type": "stream",
          "name": "stdout",
          "text": [
            "[[0.]]\n"
          ]
        }
      ]
    },
    {
      "cell_type": "markdown",
      "metadata": {
        "id": "Q3cvIo_xJ3qT"
      },
      "source": [
        "### Graphs we want to show:\n",
        "1. Histogram of the synchronization time between Alice and bob.\n",
        "2. The chance of A&B to take a step (sliding window)\n",
        "3. The correlation between A&B over the learning time (vs. the attacker's correlation)\n",
        "4. Show how the sync time depends on the constants (N, L, K)- \"errorbar\"\n",
        "5. To show that the final weights are not correlated to the initial weights.\n",
        "6. examine how inputs in [-M, M] affects the information we can get from the final weights."
      ]
    }
  ]
}