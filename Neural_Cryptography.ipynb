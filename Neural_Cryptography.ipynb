{
  "nbformat": 4,
  "nbformat_minor": 0,
  "metadata": {
    "colab": {
      "name": "Neural-Cryptography.ipynb",
      "provenance": [],
      "collapsed_sections": [],
      "include_colab_link": true
    },
    "kernelspec": {
      "name": "python3",
      "display_name": "Python 3"
    },
    "language_info": {
      "name": "python"
    }
  },
  "cells": [
    {
      "cell_type": "markdown",
      "metadata": {
        "id": "view-in-github",
        "colab_type": "text"
      },
      "source": [
        "<a href=\"https://colab.research.google.com/github/ibenoam/Neural_cryptography/blob/main/Neural_Cryptography.ipynb\" target=\"_parent\"><img src=\"https://colab.research.google.com/assets/colab-badge.svg\" alt=\"Open In Colab\"/></a>"
      ]
    },
    {
      "cell_type": "markdown",
      "metadata": {
        "id": "GG2QRa_aMZht"
      },
      "source": [
        "# Neural-Cryptography:\n",
        "### Solving the key exchange problem by synchronize Tree Parity Machines"
      ]
    },
    {
      "cell_type": "code",
      "metadata": {
        "id": "3EOscj-MM5Ii"
      },
      "source": [
        "import numpy as np\n",
        "import matplotlib.pyplot as plt\n",
        "import pdb"
      ],
      "execution_count": null,
      "outputs": []
    },
    {
      "cell_type": "code",
      "metadata": {
        "id": "Lc3YuucVMSgw"
      },
      "source": [
        "N = 100 # each N input neurons goes to 1 hidden neuron\n",
        "L = 3 # the \"synaptic\" depth\n",
        "K = 3 # number of perceptrons (or hidden layer size)\n",
        "M = 1 # the input consists of integers between -M to M (without zero)\n",
        "\n",
        "num_sys = 1000 # we average each result \"num_sys\" times\n",
        "\n",
        "step_converage = np.zeros((1,num_sys))\n",
        "sync_time = np.zeros((1,num_sys))\n",
        "attacker_time = np.zeros((1,num_sys))"
      ],
      "execution_count": null,
      "outputs": []
    },
    {
      "cell_type": "code",
      "metadata": {
        "id": "cCrSehcOKosp"
      },
      "source": [
        "class TPM:\n",
        "  def __init__(self,N,K,L,M=1):\n",
        "    # Constants:\n",
        "    self.N = N\n",
        "    self.K = K\n",
        "    self.L = L\n",
        "    self.M = M\n",
        "\n",
        "    # Initialization:\n",
        "    self.w = np.floor((2*L+1) * np.random.rand(N,K)) - L\n",
        "    self.init_w = self.w\n",
        "    self.fields = np.zeros((1,K))\n",
        "    self.sigmas = np.zeros((1,K))\n",
        "    self.tau = 0\n",
        "\n",
        "    # The feed-forward process:\n",
        "  def forward(self,input):\n",
        "    self.fields = np.sum(self.w*input, axis=0)\n",
        "    self.sigmas = np.sign(self.fields + 1e-10)\n",
        "    self.tau = np.prod(self.sigmas)\n",
        "  \n",
        "    # updating the weights:\n",
        "  def update(self,input):\n",
        "    update_indexes = np.where(self.sigmas == self.tau)\n",
        "    self.w[:,update_indexes] += input[:,update_indexes]\n",
        "    self.w[np.abs(self.w)>self.L] = np.sign(self.w[np.abs(self.w)>self.L])*self.L\n"
      ],
      "execution_count": null,
      "outputs": []
    },
    {
      "cell_type": "code",
      "metadata": {
        "id": "mbvCtvUfNkf9",
        "colab": {
          "base_uri": "https://localhost:8080/"
        },
        "outputId": "a7d91687-f63b-4c4a-9afe-5aab93dc4a62"
      },
      "source": [
        "for i in range(num_sys):\n",
        "\n",
        "    # Creates the objects from the \"TPM\" class:\n",
        "    alice = TPM(N,K,L)\n",
        "    bob = TPM(N,K,L)\n",
        "    # Creates the attacker's TPM:\n",
        "    eve = TPM(N,K,L)\n",
        "\n",
        "    when_move = np.array([])\n",
        "    corr_alice_bob = np.array([])\n",
        "    count_steps = 0\n",
        "    flag = True\n",
        "    # while not np.array_equal(alice.w,bob.w):\n",
        "    while not np.array_equal(alice.w,eve.w):\n",
        "        # print(\"After {} steps.\".format(count_steps))\n",
        "        count_steps += 1\n",
        "        if np.array_equal(alice.w,bob.w) and flag:\n",
        "            sync_time[0, i] = count_steps\n",
        "            # corr_alice[0, i] = correlation_calc(alice.init_w, alice.w)\n",
        "            # corr_bob[0, i] = correlation_calc(bob.init_w, bob.w)\n",
        "            # corr_alice_bob[0, i] = correlation_calc(alice.w, bob.w)\n",
        "            flag = False\n",
        "        inputs = np.sign(np.random.rand(N,K)-0.5)\n",
        "        alice.forward(inputs)\n",
        "        bob.forward(inputs)\n",
        "    \n",
        "        # According to the algorithm, Alice and Bob take a step only when their outputs are identical:\n",
        "        if alice.tau == bob.tau:\n",
        "            when_move=np.append(when_move,1)\n",
        "            alice.update(inputs)\n",
        "            bob.update(inputs)\n",
        "            # corr_alice_bob=np.append(corr_alice_bob,np.corrcoef(alice.w[:], bob.w[:]))\n",
        "        else:\n",
        "            when_move=np.append(when_move,0)\n",
        "        \n",
        "        ''' The best strategy for an attacker with only 1 TPM:\n",
        "        when Eve gets the same output like Alice- she updates the weights according to the same learning rule.\n",
        "        But, because of the fact that she cannot influence the dynamics between Alice and Bob, she has to do something\n",
        "        even when her output is different, otherwise she does not have a real chance.\n",
        "        So, she looks for the perceptron with the minimal absolute field and flips it (it has the less \"confidence\").\n",
        "        Now, her output becomes identical to Alice's output and she can updates according to the regular learning rule.\n",
        "        '''\n",
        "        eve.forward(inputs)\n",
        "        if eve.tau == alice.tau:\n",
        "            eve.update(inputs)\n",
        "        else:\n",
        "            min_field_index = np.argmin(np.abs(eve.fields))\n",
        "            eve.sigmas[min_field_index] *= -1 # flips a field\n",
        "            eve.tau *= -1 # now, flips the output\n",
        "            eve.update(inputs)\n",
        "\n",
        "    # print(\" finished {}% of the runtime\".format(100*(i+1)/num_sys))\n",
        "    attacker_time[0, i] = count_steps\n",
        "print(\" The average synchronization time between Alice and bob is {} steps with std of {}\".format(np.mean(sync_time), np.std(sync_time)))\n",
        "print(\" The average learning time between Eve and Alice is {} steps with std of {}\".format(np.mean(attacker_time), np.std(attacker_time)))"
      ],
      "execution_count": null,
      "outputs": [
        {
          "output_type": "stream",
          "name": "stdout",
          "text": [
            " The average synchronization time between Alice and bob is 339.95 steps with std of 106.78560530333664\n",
            " The average learning time between Eve and Alice is 1881.661 steps with std of 1401.9621906738425\n"
          ]
        }
      ]
    },
    {
      "cell_type": "code",
      "metadata": {
        "colab": {
          "base_uri": "https://localhost:8080/"
        },
        "id": "ldi96l93JAic",
        "outputId": "908b84b7-ef1b-489d-ba1d-398f7f41f3c0"
      },
      "source": [
        "sync_time\n"
      ],
      "execution_count": null,
      "outputs": [
        {
          "output_type": "execute_result",
          "data": {
            "text/plain": [
              "array([[3338., 1828., 4305.,  646.,  682.,  636., 2401., 1623., 1810.,\n",
              "         919.]])"
            ]
          },
          "metadata": {},
          "execution_count": 24
        }
      ]
    },
    {
      "cell_type": "markdown",
      "metadata": {
        "id": "Dp1_kPKmQQwN"
      },
      "source": [
        "First, we plotted a histogram of the synchronization time between Alice and bob like in the original paper."
      ]
    },
    {
      "cell_type": "code",
      "metadata": {
        "colab": {
          "base_uri": "https://localhost:8080/",
          "height": 312
        },
        "id": "W5qsNLAXMpsL",
        "outputId": "8cc34434-5fdf-49aa-da5f-c53161728155"
      },
      "source": [
        "plt.figure()\n",
        "plt.hist(np.resize(sync_time, (num_sys,)), bins = 20)\n",
        "# plt.subplot(121)\n",
        "plt.title('Histogram of the sync. time between A & B')\n",
        "plt.xlabel(\"sync. time\")\n",
        "plt.ylabel(\"amount\")\n",
        "plt.plot()"
      ],
      "execution_count": null,
      "outputs": [
        {
          "output_type": "execute_result",
          "data": {
            "text/plain": [
              "[]"
            ]
          },
          "metadata": {},
          "execution_count": 80
        },
        {
          "output_type": "display_data",
          "data": {
            "image/png": "[encoded data removed]",
            "text/plain": [
              "<Figure size 432x288 with 1 Axes>"
            ]
          },
          "metadata": {
            "needs_background": "light"
          }
        }
      ]
    },
    {
      "cell_type": "code",
      "metadata": {
        "colab": {
          "base_uri": "https://localhost:8080/",
          "height": 312
        },
        "id": "jvgcbQZMQpgL",
        "outputId": "f25e6650-ed2c-4d33-bf2b-e68623714111"
      },
      "source": [
        "plt.hist(np.resize(attacker_time, (num_sys,)), bins = 20)\n",
        "# plt.subplot(122)\n",
        "plt.title(\"Histogram of the attacker's learning time\")\n",
        "plt.xlabel(\"sync. time\")\n",
        "plt.ylabel(\"amount\")\n",
        "plt.plot()"
      ],
      "execution_count": null,
      "outputs": [
        {
          "output_type": "execute_result",
          "data": {
            "text/plain": [
              "[]"
            ]
          },
          "metadata": {},
          "execution_count": 81
        },
        {
          "output_type": "display_data",
          "data": {
            "image/png": "[encoded data removed]",
            "text/plain": [
              "<Figure size 432x288 with 1 Axes>"
            ]
          },
          "metadata": {
            "needs_background": "light"
          }
        }
      ]
    },
    {
      "cell_type": "code",
      "metadata": {
        "id": "UnZju-iZIS89"
      },
      "source": [
        "# sliding window\n",
        "\n"
      ],
      "execution_count": null,
      "outputs": []
    },
    {
      "cell_type": "code",
      "metadata": {
        "id": "dVi0N458ZVC9"
      },
      "source": [
        "a = np.array([1, 2, 3, 4])\n",
        "b = np.array([1, 2, 3, 4])\n",
        "print(np.correlate(a, b))\n"
      ],
      "execution_count": null,
      "outputs": []
    },
    {
      "cell_type": "code",
      "metadata": {
        "id": "DoNo2PoML5mu"
      },
      "source": [
        "def entropy_calc(arr):\n",
        "  "
      ],
      "execution_count": null,
      "outputs": []
    },
    {
      "cell_type": "code",
      "metadata": {
        "id": "6vFuWk0HRx8U"
      },
      "source": [
        "# This function gets two sets of weights (flatten each of them to a vector), and calculates the correlation between them (or the cosinus between them).\n",
        "def correlation_calc(w1, w2):\n",
        "    w1 = w1.flatten().transpose\n",
        "    w2 = w2.flatten()\n",
        "    print(w1)\n",
        "    print(w2)\n",
        "    # corr_val = (w1 @ w2) / (np.linalg.norm(w1) * np.linalg.norm(w2))\n",
        "\n",
        "    return corr_val"
      ],
      "execution_count": null,
      "outputs": []
    },
    {
      "cell_type": "code",
      "metadata": {
        "colab": {
          "base_uri": "https://localhost:8080/"
        },
        "id": "lgPeGLRmUhgk",
        "outputId": "70dc5272-2189-494a-ebf1-2c14be637313"
      },
      "source": [
        "x = np.array([[3], [4]])\n",
        "np.linalg.norm(x)"
      ],
      "execution_count": null,
      "outputs": [
        {
          "output_type": "execute_result",
          "data": {
            "text/plain": [
              "5.0"
            ]
          },
          "metadata": {},
          "execution_count": 75
        }
      ]
    },
    {
      "cell_type": "code",
      "metadata": {
        "colab": {
          "base_uri": "https://localhost:8080/"
        },
        "id": "DPxcRFm7Tng9",
        "outputId": "45b796e6-2565-4a7b-8d5d-4f18cc6bc39c"
      },
      "source": [
        "b = bob.w\n",
        "b = b.flatten()#.transpose()\n",
        "# b = b.T\n",
        "b.shape"
      ],
      "execution_count": null,
      "outputs": [
        {
          "output_type": "execute_result",
          "data": {
            "text/plain": [
              "(300,)"
            ]
          },
          "metadata": {},
          "execution_count": 73
        }
      ]
    },
    {
      "cell_type": "code",
      "metadata": {
        "colab": {
          "base_uri": "https://localhost:8080/",
          "height": 564
        },
        "id": "lKr4Ugw9S1BV",
        "outputId": "e226ca60-0f9f-4378-c136-54a0d73f03ae"
      },
      "source": [
        "corr_val = correlation_calc(alice.w, bob.w)"
      ],
      "execution_count": null,
      "outputs": [
        {
          "output_type": "stream",
          "name": "stdout",
          "text": [
            "<built-in method transpose of numpy.ndarray object at 0x7f777ac458a0>\n",
            "[ 3.  3.  3.  2. -3. -2.  3. -2.  3.  3. -1.  1.  1. -3. -3. -1.  1. -3.\n",
            " -1.  3. -3.  2. -2.  3.  1.  0.  2. -1.  2.  3. -2.  0.  0.  1.  3.  2.\n",
            "  0. -2.  2. -2. -2.  3.  2. -1.  0. -3.  2.  2. -1.  1. -2.  2. -2. -1.\n",
            "  1.  0.  2.  0.  3.  3.  1.  0. -2. -3.  1. -3.  2.  2.  1. -1.  3.  3.\n",
            " -3. -3. -2.  2.  3.  2. -2. -3.  0.  3.  0. -1. -3. -1.  1.  3.  0. -1.\n",
            " -3. -2.  1. -3.  2. -3.  1. -3.  3. -3. -3. -1.  2.  0. -3.  3. -1.  0.\n",
            "  2.  1.  2.  2.  0. -2.  1. -3.  0. -2.  3.  0. -3.  3.  3.  0. -1.  2.\n",
            "  1.  2. -1.  2.  2.  3. -1. -2. -1. -3.  0.  0.  3. -3.  1. -1. -1.  3.\n",
            "  3. -1.  1. -2.  3. -3.  2. -2. -3. -1. -2.  3.  0. -2.  2.  2.  3.  1.\n",
            " -1.  0. -3.  0.  1. -1. -2. -3.  3.  2.  1.  2.  1. -1. -2.  0.  1. -2.\n",
            "  1. -3.  1.  3. -1.  0. -2. -3. -1.  2. -3. -2.  2.  3.  1.  1. -1.  0.\n",
            " -1.  2.  3. -3.  2.  1.  3.  0.  2. -3.  2. -3. -2.  2.  1.  3. -1. -1.\n",
            "  0. -1. -3.  1.  3. -3. -2. -1. -2.  3.  1.  1. -1. -1.  1.  3. -2.  1.\n",
            " -2.  3.  2. -2.  2. -3. -3.  3.  1. -3. -1.  3. -2.  3.  1. -3.  2.  1.\n",
            " -1. -2.  0. -1.  2.  1.  1.  1.  3. -3.  3.  0.  0.  2.  3. -2. -2. -3.\n",
            " -2. -2.  2. -1. -3.  1.  0.  0.  3.  0.  3.  3.  3.  3.  1. -3.  1. -2.\n",
            "  2.  2. -1. -2.  1. -1.  1. -2. -1. -1. -3. -3.]\n"
          ]
        },
        {
          "output_type": "error",
          "ename": "NameError",
          "evalue": "ignored",
          "traceback": [
            "\u001b[0;31m---------------------------------------------------------------------------\u001b[0m",
            "\u001b[0;31mNameError\u001b[0m                                 Traceback (most recent call last)",
            "\u001b[0;32m<ipython-input-62-a2a0e7a1acbf>\u001b[0m in \u001b[0;36m<module>\u001b[0;34m()\u001b[0m\n\u001b[0;32m----> 1\u001b[0;31m \u001b[0mcorr_val\u001b[0m \u001b[0;34m=\u001b[0m \u001b[0mcorrelation_calc\u001b[0m\u001b[0;34m(\u001b[0m\u001b[0malice\u001b[0m\u001b[0;34m.\u001b[0m\u001b[0mw\u001b[0m\u001b[0;34m,\u001b[0m \u001b[0mbob\u001b[0m\u001b[0;34m.\u001b[0m\u001b[0mw\u001b[0m\u001b[0;34m)\u001b[0m\u001b[0;34m\u001b[0m\u001b[0;34m\u001b[0m\u001b[0m\n\u001b[0m",
            "\u001b[0;32m<ipython-input-61-652c3b331a6d>\u001b[0m in \u001b[0;36mcorrelation_calc\u001b[0;34m(w1, w2)\u001b[0m\n\u001b[1;32m      5\u001b[0m     \u001b[0mprint\u001b[0m\u001b[0;34m(\u001b[0m\u001b[0mw2\u001b[0m\u001b[0;34m)\u001b[0m\u001b[0;34m\u001b[0m\u001b[0;34m\u001b[0m\u001b[0m\n\u001b[1;32m      6\u001b[0m     \u001b[0;31m# corr_val = w1 @ w2\u001b[0m\u001b[0;34m\u001b[0m\u001b[0;34m\u001b[0m\u001b[0;34m\u001b[0m\u001b[0m\n\u001b[0;32m----> 7\u001b[0;31m     \u001b[0;32mreturn\u001b[0m \u001b[0mcorr_val\u001b[0m\u001b[0;34m\u001b[0m\u001b[0;34m\u001b[0m\u001b[0m\n\u001b[0m",
            "\u001b[0;31mNameError\u001b[0m: name 'corr_val' is not defined"
          ]
        }
      ]
    },
    {
      "cell_type": "code",
      "metadata": {
        "colab": {
          "base_uri": "https://localhost:8080/"
        },
        "id": "FEmodYz3SnfG",
        "outputId": "73c6da3d-3fdf-4a6d-e07e-bcc4cbaf1cdf"
      },
      "source": [
        "print(alice.w.flatten().shape)"
      ],
      "execution_count": null,
      "outputs": [
        {
          "output_type": "stream",
          "name": "stdout",
          "text": [
            "(300,)\n"
          ]
        }
      ]
    },
    {
      "cell_type": "markdown",
      "metadata": {
        "id": "Q3cvIo_xJ3qT"
      },
      "source": [
        "### Graphs we want to show:\n",
        "1. Histogram of the synchronization time between Alice and bob. --- done!\n",
        "2. The chance of A&B to take a step (sliding window)\n",
        "3. The correlation between A&B over the learning time (vs. the attacker's correlation)\n",
        "4. Show how the sync time depends on the constants (N, L, K)- \"errorbar\"\n",
        "5. To show that the final weights are not correlated to the initial weights.\n",
        "6. examine how inputs in [-M, M] affects the information we can get from the final weights."
      ]
    }
  ]
}