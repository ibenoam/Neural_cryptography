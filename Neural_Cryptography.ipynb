{
  "nbformat": 4,
  "nbformat_minor": 0,
  "metadata": {
    "colab": {
      "name": "Neural-Cryptography.ipynb",
      "provenance": [],
      "collapsed_sections": [],
      "include_colab_link": true
    },
    "kernelspec": {
      "name": "python3",
      "display_name": "Python 3"
    },
    "language_info": {
      "name": "python"
    }
  },
  "cells": [
    {
      "cell_type": "markdown",
      "metadata": {
        "id": "view-in-github",
        "colab_type": "text"
      },
      "source": [
        "<a href=\"https://colab.research.google.com/github/ibenoam/Neural_cryptography/blob/main/Neural_Cryptography.ipynb\" target=\"_parent\"><img src=\"https://colab.research.google.com/assets/colab-badge.svg\" alt=\"Open In Colab\"/></a>"
      ]
    },
    {
      "cell_type": "markdown",
      "metadata": {
        "id": "GG2QRa_aMZht"
      },
      "source": [
        "# Neural-Cryptography:\n",
        "### Solving the key exchange problem by synchronize Tree Parity Machines"
      ]
    },
    {
      "cell_type": "code",
      "metadata": {
        "id": "3EOscj-MM5Ii"
      },
      "source": [
        "import numpy as np\n",
        "import matplotlib.pyplot as plt\n",
        "import copy # ?\n",
        "import pdb"
      ],
      "execution_count": 2,
      "outputs": []
    },
    {
      "cell_type": "markdown",
      "metadata": {
        "id": "F7SUhaNjsIeX"
      },
      "source": [
        "Now, we define a few constants and initialize some arrays for the graphs later."
      ]
    },
    {
      "cell_type": "code",
      "metadata": {
        "id": "Lc3YuucVMSgw"
      },
      "source": [
        "N = 100 # each N input neurons goes to 1 hidden neuron\n",
        "L = 3 # the \"synaptic\" depth\n",
        "K = 3 # number of perceptrons (or hidden layer size)\n",
        "M = 1 # the input consists of integers between -M to M (without zero)\n",
        "\n",
        "num_sys = 100 # we average each result \"num_sys\" times\n",
        "\n",
        "step_converage = np.zeros((1,num_sys))\n",
        "sync_time = np.zeros((1,num_sys))\n",
        "attacker_time = np.zeros((1,num_sys))\n",
        "\n",
        "corr_alice = np.zeros((1,num_sys))\n",
        "corr_bob = np.zeros((1,num_sys))\n",
        "corr_alice_bob = np.zeros((1,num_sys))\n",
        "corr_alice_eve = np.zeros((1,num_sys))\n",
        "\n",
        "# data = [{'sync_time': int(), 'attacker_time': int(), 'corr_alice': [], 'corr_bob': [], 'corr_alice_bob': [], 'corr_alice_eve': []} for _ in range(num_sys)]\n"
      ],
      "execution_count": 5,
      "outputs": []
    },
    {
      "cell_type": "markdown",
      "metadata": {
        "id": "aAXIiQfnBZmD"
      },
      "source": [
        "Lets define our Tree-Parity Machine (TPM) class:"
      ]
    },
    {
      "cell_type": "code",
      "metadata": {
        "id": "cCrSehcOKosp"
      },
      "source": [
        "class TPM:\n",
        "  def __init__(self,N,K,L,M=1):\n",
        "    # Constants:\n",
        "    self.N = N\n",
        "    self.K = K\n",
        "    self.L = L\n",
        "    self.M = M\n",
        "\n",
        "    # Initialization:\n",
        "    self.w = np.floor((2*L+1) * np.random.rand(N,K)) - L\n",
        "    self.init_w = copy.deepcopy(self.w)\n",
        "    self.fields = np.zeros((1,K))\n",
        "    self.sigmas = np.zeros((1,K))\n",
        "    self.tau = 0\n",
        "\n",
        "    # The feed-forward process:\n",
        "  def forward(self,input):\n",
        "    self.fields = np.sum(self.w*input, axis=0)\n",
        "    self.sigmas = np.sign(self.fields + 1e-10)\n",
        "    self.tau = np.prod(self.sigmas)\n",
        "  \n",
        "    # updating the weights:\n",
        "  def update(self,input):\n",
        "    update_indexes = np.where(self.sigmas == self.tau)\n",
        "    self.w[:,update_indexes] += input[:,update_indexes]\n",
        "    self.w[np.abs(self.w)>self.L] = np.sign(self.w[np.abs(self.w)>self.L])*self.L\n"
      ],
      "execution_count": 6,
      "outputs": []
    },
    {
      "cell_type": "code",
      "metadata": {
        "id": "6vFuWk0HRx8U"
      },
      "source": [
        "# This function gets two sets of weights (flatten each of them to a vector), and calculates the correlation between them (or the cosinus between them).\n",
        "def correlation_calc(w1, w2):\n",
        "  w1 = np.transpose(w1.flatten())\n",
        "  w2 = w2.flatten()\n",
        "  corr_val = (w1 @ w2) / (np.linalg.norm(w1) * np.linalg.norm(w2))\n",
        "  return corr_val"
      ],
      "execution_count": 7,
      "outputs": []
    },
    {
      "cell_type": "code",
      "metadata": {
        "id": "mbvCtvUfNkf9",
        "colab": {
          "base_uri": "https://localhost:8080/"
        },
        "outputId": "beb81999-d3a7-42e6-c203-de69292d57ce"
      },
      "source": [
        "for i in range(num_sys):\n",
        "\n",
        "    flag = True\n",
        "    # Creates the objects from the \"TPM\" class:\n",
        "    alice = TPM(N,K,L)\n",
        "    bob = TPM(N,K,L)\n",
        "    # Creates the attacker's TPM:\n",
        "    eve = TPM(N,K,L)\n",
        "\n",
        "    when_move = np.array([])\n",
        "    count_steps = 0\n",
        "    \n",
        "    # while not np.array_equal(alice.w,bob.w):\n",
        "    while not np.array_equal(alice.w,eve.w):\n",
        "      # print(\"After {} steps.\".format(count_steps))\n",
        "      count_steps += 1\n",
        "      if np.array_equal(alice.w,bob.w) and flag:\n",
        "          sync_time[0, i] = count_steps\n",
        "          corr_alice[0, i] = correlation_calc(alice.init_w, alice.w)\n",
        "          corr_bob[0, i] = correlation_calc(bob.init_w, bob.w)\n",
        "          corr_alice_bob[0, i] = correlation_calc(alice.w, bob.w)\n",
        "          corr_alice_eve[0, i] = correlation_calc(alice.w, eve.w)\n",
        "\n",
        "          flag = False\n",
        "      \n",
        "      inputs = np.sign(np.random.rand(N,K)-0.5)\n",
        "      alice.forward(inputs)\n",
        "      bob.forward(inputs)\n",
        "  \n",
        "      # According to the algorithm, Alice and Bob take a step only when their outputs are identical:\n",
        "      if alice.tau == bob.tau:\n",
        "          when_move=np.append(when_move,1)\n",
        "          alice.update(inputs)\n",
        "          bob.update(inputs)\n",
        "      else:\n",
        "          when_move=np.append(when_move,0)\n",
        "      \n",
        "      ''' The best strategy for an attacker with only 1 TPM:\n",
        "      when Eve gets the same output like Alice- she updates the weights according to the same learning rule.\n",
        "      But, because of the fact that she cannot influence the dynamics between Alice and Bob, she has to do something\n",
        "      even when her output is different, otherwise she does not have a real chance.\n",
        "      So, she looks for the perceptron with the minimal absolute field and flips it (it has the less \"confidence\").\n",
        "      Now, her output becomes identical to Alice's output and she can updates according to the regular learning rule.\n",
        "      '''\n",
        "      eve.forward(inputs)\n",
        "      if eve.tau == alice.tau:\n",
        "          eve.update(inputs)\n",
        "      else:\n",
        "          min_field_index = np.argmin(np.abs(eve.fields))\n",
        "          eve.sigmas[min_field_index] *= -1 # flips a field\n",
        "          eve.tau *= -1 # now, flips the output\n",
        "          eve.update(inputs)\n",
        "      corr_alice_eve[0, i] = correlation_calc(alice.w, eve.w)\n",
        "    # print(\" finished {}% of the runtime\".format(100*(i+1)/num_sys))\n",
        "      attacker_time[0, i] = count_steps\n",
        "print(f\" The average synchronization time between Alice and bob is {np.mean(sync_time):.3f} steps with std of {np.std(sync_time):.3f}\")\n",
        "print(f\" The average learning time between of Eve is {np.mean(attacker_time):.3f} steps with std of {np.std(attacker_time):.3f}\")"
      ],
      "execution_count": 8,
      "outputs": [
        {
          "output_type": "stream",
          "name": "stdout",
          "text": [
            " The average synchronization time between Alice and bob is 330.720 steps with std of 99.897\n",
            " The average learning time between of Eve is 1794.370 steps with std of 1557.236\n"
          ]
        }
      ]
    },
    {
      "cell_type": "markdown",
      "metadata": {
        "id": "Dp1_kPKmQQwN"
      },
      "source": [
        "First, we plot a histogram of the synchronization time between Alice and bob like in the original paper:"
      ]
    },
    {
      "cell_type": "code",
      "metadata": {
        "colab": {
          "base_uri": "https://localhost:8080/",
          "height": 312
        },
        "id": "W5qsNLAXMpsL",
        "outputId": "c6e50272-7400-4cf3-ea3a-afcc5aa5cb89"
      },
      "source": [
        "plt.figure()\n",
        "plt.hist(np.resize(sync_time, (num_sys,)), color = \"blue\", bins = 20)\n",
        "plt.title('Histogram of the sync. time between A & B')\n",
        "plt.xlabel(\"sync. time\")\n",
        "plt.ylabel(\"amount\")\n",
        "plt.plot()"
      ],
      "execution_count": 9,
      "outputs": [
        {
          "output_type": "execute_result",
          "data": {
            "text/plain": [
              "[]"
            ]
          },
          "metadata": {},
          "execution_count": 9
        },
        {
          "output_type": "display_data",
          "data": {
            "image/png": "[encoded data removed]",
            "text/plain": [
              "<Figure size 432x288 with 1 Axes>"
            ]
          },
          "metadata": {
            "needs_background": "light"
          }
        }
      ]
    },
    {
      "cell_type": "markdown",
      "metadata": {
        "id": "pTyGlcGy45o3"
      },
      "source": [
        "We want to see that Eve didn't succeed to converge faster than Alice and Bob:"
      ]
    },
    {
      "cell_type": "code",
      "metadata": {
        "colab": {
          "base_uri": "https://localhost:8080/",
          "height": 312
        },
        "id": "jvgcbQZMQpgL",
        "outputId": "2e3eef7a-5dc3-4c1f-9eff-8263927805c8"
      },
      "source": [
        "plt.hist(np.resize(attacker_time, (num_sys,)), color = \"red\",  bins = 20)\n",
        "plt.title(\"Histogram of the attacker's learning time\")\n",
        "plt.xlabel(\"sync. time\")\n",
        "plt.ylabel(\"amount\")\n",
        "plt.plot(c = 'red')"
      ],
      "execution_count": 10,
      "outputs": [
        {
          "output_type": "execute_result",
          "data": {
            "text/plain": [
              "[]"
            ]
          },
          "metadata": {},
          "execution_count": 10
        },
        {
          "output_type": "display_data",
          "data": {
            "image/png": "[encoded data removed]",
            "text/plain": [
              "<Figure size 432x288 with 1 Axes>"
            ]
          },
          "metadata": {
            "needs_background": "light"
          }
        }
      ]
    },
    {
      "cell_type": "code",
      "metadata": {
        "colab": {
          "base_uri": "https://localhost:8080/",
          "height": 329
        },
        "id": "HQLjF6R7CaGE",
        "outputId": "5d53ba43-7347-49af-de15-c13d14e1894c"
      },
      "source": [
        "ratio_attack_sync = attacker_time / sync_time\n",
        "\n",
        "plt.figure()\n",
        "plt.hist(np.resize(ratio_attack_sync, (num_sys,)), color = \"orange\", bins = 20)\n",
        "plt.title('Ratio between the attacker learning time and the synchronization time')\n",
        "plt.xlabel(\"correlation\")\n",
        "plt.ylabel(\"amount\")\n",
        "plt.plot()\n",
        "\n",
        "print(f\" The average ratio between the attacker learning time and the synchronization time is {np.mean(ratio_attack_sync):.3f} with std of {np.std(ratio_attack_sync):.3f}\")\n",
        "print(f\" The minimal ratio  is {np.min(ratio_attack_sync):.3f}\")"
      ],
      "execution_count": 11,
      "outputs": [
        {
          "output_type": "stream",
          "name": "stdout",
          "text": [
            " The average ratio between the attacker learning time and the synchronization time is 5.699 with std of 4.469\n",
            " The minimal ratio  is 1.358\n"
          ]
        },
        {
          "output_type": "display_data",
          "data": {
            "image/png": "[encoded data removed]",
            "text/plain": [
              "<Figure size 432x288 with 1 Axes>"
            ]
          },
          "metadata": {
            "needs_background": "light"
          }
        }
      ]
    },
    {
      "cell_type": "markdown",
      "metadata": {
        "id": "uc2LboBi5Zl0"
      },
      "source": [
        "One can say that maybe if we know the initial state of Alice's weights we can evaluate where she will end. We calculate the correlation between Alice's initial and final weights:"
      ]
    },
    {
      "cell_type": "code",
      "metadata": {
        "colab": {
          "base_uri": "https://localhost:8080/",
          "height": 312
        },
        "id": "ldi96l93JAic",
        "outputId": "77e5be4c-85cb-4279-8cee-5cb8d7f3752d"
      },
      "source": [
        "plt.figure()\n",
        "plt.hist(np.resize(corr_alice, (num_sys,)), color = \"grey\", bins = 20)\n",
        "plt.title('Histogram of the correaltion between the initial and the final weights of Alice')\n",
        "plt.xlabel(\"correlation\")\n",
        "plt.ylabel(\"amount\")\n",
        "plt.plot()\n",
        "\n",
        "print(f\" The average correlation between Alice's initial and final weights is {np.mean(corr_alice):.3f} steps with std of {np.std(corr_alice):.3f}\")"
      ],
      "execution_count": 12,
      "outputs": [
        {
          "output_type": "stream",
          "name": "stdout",
          "text": [
            " The average correlation between Alice's initial and final weights is -0.002 steps with std of 0.057\n"
          ]
        },
        {
          "output_type": "display_data",
          "data": {
            "image/png": "[encoded data removed]",
            "text/plain": [
              "<Figure size 432x288 with 1 Axes>"
            ]
          },
          "metadata": {
            "needs_background": "light"
          }
        }
      ]
    },
    {
      "cell_type": "code",
      "metadata": {
        "id": "UnZju-iZIS89",
        "colab": {
          "base_uri": "https://localhost:8080/",
          "height": 312
        },
        "outputId": "ecbff879-2f20-42ad-8529-c942b452c2e8"
      },
      "source": [
        "# sliding window\n",
        "window_size = 50\n",
        "chance = []\n",
        "for i in range(len(when_move)-window_size+1):\n",
        "    chance.append(when_move[range(i, i + window_size)].sum()/window_size)\n",
        "\n",
        "plt.figure()\n",
        "plt.title('The probability to take a step vs. time')\n",
        "plt.xlabel(\"time\")\n",
        "plt.ylabel(\"probability\")\n",
        "plt.plot(range(len(chance)), chance, c = 'green')\n",
        "plt.scatter(int(sync_time[0, -1]), chance[int(sync_time[0, -1])], c = 'red', s = 10, linewidth = 5)"
      ],
      "execution_count": 13,
      "outputs": [
        {
          "output_type": "execute_result",
          "data": {
            "text/plain": [
              "<matplotlib.collections.PathCollection at 0x7ff2ed2bd450>"
            ]
          },
          "metadata": {},
          "execution_count": 13
        },
        {
          "output_type": "display_data",
          "data": {
            "image/png": "[encoded data removed]",
            "text/plain": [
              "<Figure size 432x288 with 1 Axes>"
            ]
          },
          "metadata": {
            "needs_background": "light"
          }
        }
      ]
    },
    {
      "cell_type": "markdown",
      "metadata": {
        "id": "Qj_n1_HFQSL3"
      },
      "source": [
        "The correlation between Alice and Bob vs Alice and Eve over the learing time"
      ]
    },
    {
      "cell_type": "code",
      "metadata": {
        "colab": {
          "base_uri": "https://localhost:8080/",
          "height": 312
        },
        "id": "wDJkVJn2Qc_3",
        "outputId": "c7feca81-ae29-44d5-d860-b8dfa54cec2f"
      },
      "source": [
        "# plt.figure()\n",
        "# plt.hist(np.resize(corr_alice_bob, (num_sys,)), color = \"grey\", bins = 20)\n",
        "# plt.title('Histogram of the correaltion between the initial and the final weights of Alice')\n",
        "# plt.xlabel(\"correlation\")\n",
        "# plt.ylabel(\"amount\")\n",
        "# plt.plot()\n",
        "\n",
        "# print(f\" The average correlation between Alice's initial and final weights is {np.mean(corr_alice):.3f} steps with std of {np.std(corr_alice):.3f}\")"
      ],
      "execution_count": 14,
      "outputs": [
        {
          "output_type": "stream",
          "name": "stdout",
          "text": [
            " The average correlation between Alice's initial and final weights is -0.002 steps with std of 0.057\n"
          ]
        },
        {
          "output_type": "display_data",
          "data": {
            "image/png": "[encoded data removed]",
            "text/plain": [
              "<Figure size 432x288 with 1 Axes>"
            ]
          },
          "metadata": {
            "needs_background": "light"
          }
        }
      ]
    },
    {
      "cell_type": "code",
      "metadata": {
        "id": "DoNo2PoML5mu"
      },
      "source": [
        "def entropy_calc(arr):\n",
        "  "
      ],
      "execution_count": null,
      "outputs": []
    },
    {
      "cell_type": "markdown",
      "metadata": {
        "id": "Q3cvIo_xJ3qT"
      },
      "source": [
        "### Graphs we want to show:\n",
        "1. Histogram of the synchronization time between Alice and bob. --- done!\n",
        "2. The chance of A&B to take a step (sliding window) --- done! (I think...)\n",
        "3. The correlation between A&B over the learning time (vs. the attacker's correlation)\n",
        "4. Show how the sync time depends on the constants (N, L, K)- \"errorbar\"\n",
        "5. To show that the final weights are not correlated to the initial weights.\n",
        "6. examine how inputs in [-M, M] affects the information we can get from the final weights."
      ]
    }
  ]
}