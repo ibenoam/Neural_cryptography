{
  "nbformat": 4,
  "nbformat_minor": 0,
  "metadata": {
    "colab": {
      "name": "Neural-Cryptography.ipynb",
      "provenance": [],
      "collapsed_sections": [],
      "include_colab_link": true
    },
    "kernelspec": {
      "name": "python3",
      "display_name": "Python 3"
    },
    "language_info": {
      "name": "python"
    }
  },
  "cells": [
    {
      "cell_type": "markdown",
      "metadata": {
        "id": "view-in-github",
        "colab_type": "text"
      },
      "source": [
        "<a href=\"https://colab.research.google.com/github/ibenoam/Neural_cryptography/blob/main/Neural_Cryptography.ipynb\" target=\"_parent\"><img src=\"https://colab.research.google.com/assets/colab-badge.svg\" alt=\"Open In Colab\"/></a>"
      ]
    },
    {
      "cell_type": "markdown",
      "metadata": {
        "id": "GG2QRa_aMZht"
      },
      "source": [
        "# Neural-Cryptography:\n",
        "### Solving the key exchange problem by synchronize Tree Parity Machines"
      ]
    },
    {
      "cell_type": "code",
      "metadata": {
        "id": "3EOscj-MM5Ii"
      },
      "source": [
        "import numpy as np\n",
        "import matplotlib.pyplot as plt"
      ],
      "execution_count": null,
      "outputs": []
    },
    {
      "cell_type": "code",
      "metadata": {
        "id": "Lc3YuucVMSgw"
      },
      "source": [
        "N = 1000\n",
        "L = 3 \n",
        "K = 3\n",
        "\n",
        "num_sys = 100\n",
        "step_converage = np.zeros((1,num_sys))\n",
        "sync_time = np.zeros((1,num_sys))\n",
        "attacker_time = np.zeros((1,num_sys))"
      ],
      "execution_count": null,
      "outputs": []
    },
    {
      "cell_type": "code",
      "metadata": {
        "id": "cCrSehcOKosp"
      },
      "source": [
        "class TPM:\n",
        "  def __init__(self,N,K,L,M=1):\n",
        "    # Constants\n",
        "    self.N = N\n",
        "    self.K = K\n",
        "    self.L = L\n",
        "    self.M = M\n",
        "\n",
        "    # Initialization\n",
        "    self.w = np.floor((2*L+1) * np.random.rand(N,K)) - L\n",
        "    self.fields = np.zeros((1,K))\n",
        "    self.sigmas = np.zeros((1,K))\n",
        "    self.tau = 0\n",
        "\n",
        "  def forward(self,input):\n",
        "    self.fields = np.sum(self.w*input, axis=0)\n",
        "    self.sigmas = np.sign(self.fields)\n",
        "    self.tau = np.prod(self.sigmas)  \n",
        "  \n",
        "  def update(self,input):\n",
        "    update_indexes = np.where(self.sigmas == self.tau)\n",
        "    self.w[:,update_indexes] += input[:,update_indexes]\n",
        "    self.w[np.abs(self.w)>self.L] = np.sign(self.w[np.abs(self.w)>self.L])*self.L"
      ],
      "execution_count": null,
      "outputs": []
    },
    {
      "cell_type": "code",
      "metadata": {
        "id": "mbvCtvUfNkf9"
      },
      "source": [
        "inputs = np.sign(np.random.rand(N,K)-0.5)\n",
        "\n",
        "alice = TPM(N,K,L)\n",
        "bob = TPM(N,K,L)\n",
        "\n",
        "\n",
        "alice.forward(inputs)\n",
        "bob.forward(inputs)\n",
        "\n",
        "when_move = np.array([])\n",
        "count_steps = 0\n",
        "while not np.array_equal(alice.w,bob.w):\n",
        "  # print(\"After {} steps.\".format(count_steps))\n",
        "  count_steps += 1\n",
        "  inputs = np.sign(np.random.rand(N,K)-0.5)\n",
        "  alice.forward(inputs)\n",
        "  bob.forward(inputs)\n",
        "  \n",
        "  if alice.tau == bob.tau:\n",
        "    when_move=np.append(when_move,1)\n",
        "    alice.update(inputs)\n",
        "    bob.update(inputs)\n",
        "  else:\n",
        "    when_move=np.append(when_move,0)\n",
        "  "
      ],
      "execution_count": null,
      "outputs": []
    },
    {
      "cell_type": "code",
      "metadata": {
        "id": "DoNo2PoML5mu"
      },
      "source": [
        "def entropy_calc(arr):\n",
        "  "
      ],
      "execution_count": null,
      "outputs": []
    }
  ]
}