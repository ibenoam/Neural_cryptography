{
  "nbformat": 4,
  "nbformat_minor": 0,
  "metadata": {
    "colab": {
      "name": "Neural-Cryptography_part1.ipynb",
      "provenance": [],
      "collapsed_sections": [],
      "include_colab_link": true
    },
    "kernelspec": {
      "name": "python3",
      "display_name": "Python 3"
    },
    "language_info": {
      "name": "python"
    }
  },
  "cells": [
    {
      "cell_type": "markdown",
      "metadata": {
        "id": "view-in-github",
        "colab_type": "text"
      },
      "source": [
        "<a href=\"https://colab.research.google.com/github/ibenoam/Neural_cryptography/blob/main/Neural_Cryptography_part1.ipynb\" target=\"_parent\"><img src=\"https://colab.research.google.com/assets/colab-badge.svg\" alt=\"Open In Colab\"/></a>"
      ]
    },
    {
      "cell_type": "markdown",
      "metadata": {
        "id": "GG2QRa_aMZht"
      },
      "source": [
        "# Neural-Cryptography:\n",
        "### Solving the key exchange problem by synchronize Tree Parity Machines"
      ]
    },
    {
      "cell_type": "code",
      "metadata": {
        "id": "3EOscj-MM5Ii"
      },
      "source": [
        "import numpy as np\n",
        "import matplotlib.pyplot as plt\n",
        "import copy\n",
        "import pdb"
      ],
      "execution_count": 1,
      "outputs": []
    },
    {
      "cell_type": "markdown",
      "metadata": {
        "id": "aAXIiQfnBZmD"
      },
      "source": [
        "Lets define our Tree-Parity Machine (TPM) class:"
      ]
    },
    {
      "cell_type": "code",
      "metadata": {
        "id": "cCrSehcOKosp"
      },
      "source": [
        "class TPM:\n",
        "    def __init__(self,N,K,L,M=1):\n",
        "        # Constants:\n",
        "        self.N = N\n",
        "        self.K = K\n",
        "        self.L = L\n",
        "        self.M = M\n",
        "\n",
        "        # Initialization:\n",
        "        self.w = np.floor((2*L+1) * np.random.rand(N,K)) - L\n",
        "        self.init_w = copy.deepcopy(self.w)\n",
        "        self.fields = np.zeros((1,K))\n",
        "        self.sigmas = np.zeros((1,K))\n",
        "        self.tau = 0\n",
        "        self.init_entropy = self.entropy_calc()\n",
        "\n",
        "    # The feed-forward process:\n",
        "    def forward(self,input):\n",
        "        self.fields = np.sum(self.w*input, axis=0)\n",
        "        self.sigmas = np.sign(self.fields + 1e-10)\n",
        "        self.tau = np.prod(self.sigmas)\n",
        "  \n",
        "    # updating the weights:\n",
        "    def update(self,input):\n",
        "        update_indexes = np.where(self.sigmas == self.tau)\n",
        "        self.w[:,update_indexes] += input[:,update_indexes]\n",
        "        self.w[np.abs(self.w)>self.L] = np.sign(self.w[np.abs(self.w)>self.L])*self.L\n",
        "\n",
        "    # This function gets two sets of weights (flatten each of them to a vector), and calculates the correlation between them (or the cosinus between them).\n",
        "    def correlation(self, other):\n",
        "        w1 = np.transpose(self.w.flatten())\n",
        "        w2 = other.w.flatten()\n",
        "        corr_val = (w1 @ w2) / (np.linalg.norm(w1) * np.linalg.norm(w2))\n",
        "        return corr_val\n",
        "\n",
        "    # This function gets two sets of weights (flatten each of them to a vector), and calculates the correlation between them (or the cosinus between them).\n",
        "    def self_correlation(self):\n",
        "        w1 = np.transpose(self.w.flatten())\n",
        "        w2 = self.init_w.flatten()\n",
        "        corr_val = (w1 @ w2) / (np.linalg.norm(w1) * np.linalg.norm(w2))\n",
        "        return corr_val\n",
        "\n",
        "    def entropy_calc(self):\n",
        "        entropy = 0\n",
        "        unique, counts = np.unique(self.w, return_counts=True)\n",
        "        probabilities = dict(zip(unique, counts/(self.N*self.K)))\n",
        "        for _,prob in probabilities.items():\n",
        "            if prob:\n",
        "                entropy += -prob*np.log(prob) \n",
        "        return entropy "
      ],
      "execution_count": 2,
      "outputs": []
    },
    {
      "cell_type": "markdown",
      "metadata": {
        "id": "F7SUhaNjsIeX"
      },
      "source": [
        "Now, we define a few constants and initialize a list of dictionaries.\n",
        "<br> Each dictionary has the following keys:\n",
        "*   'sync_time': number of steps until Alice and Bob succeed to converge.\n",
        "*   'attacker_time': number of steps until Eve is needed to converge.\n",
        "*   'corr_alice'/('corr_bob'): the correlation between Alice's/(Bob's) final weights and the initial weights.\n",
        "*   'corr_alice_bob': the correlation over time between Alice and Bob weights.\n",
        "*   'corr_alice_eve': the correlation over time between Alice and Eve weights.\n"
      ]
    },
    {
      "cell_type": "code",
      "metadata": {
        "id": "Lc3YuucVMSgw"
      },
      "source": [
        "N = 10 # each N input neurons goes to 1 hidden neuron\n",
        "L = 3 # the \"synaptic\" depth\n",
        "K = 3 # number of perceptrons (or hidden layer size)\n",
        "M = 1 # the input consists of integers in the range [-M,M] without 0\n",
        "\n",
        "num_sys = 100 # we average each result \"num_sys\" times\n",
        "\n",
        "data = {'sync_time': [], 'attacker_time': [], 'corr_alice': [], 'corr_bob': [], 'corr_alice_bob':  [[] for _ in range(num_sys)], 'corr_alice_eve':  [[] for _ in range(num_sys)], 'when_move': [[] for _ in range(num_sys)],'final_entropy':[]}"
      ],
      "execution_count": 3,
      "outputs": []
    },
    {
      "cell_type": "code",
      "metadata": {
        "id": "mbvCtvUfNkf9"
      },
      "source": [
        "for i in range(num_sys):\n",
        "    # Generate Alice's and Bob's TPMs:\n",
        "    alice = TPM(N,K,L)\n",
        "    bob = TPM(N,K,L)\n",
        "    # Generates the attacker's TPM:\n",
        "    eve = TPM(N,K,L)\n",
        "\n",
        "    count_steps = 0\n",
        "    flag = True\n",
        "    # while not np.array_equal(alice.w,bob.w):\n",
        "    while not np.array_equal(alice.w,eve.w):\n",
        "\n",
        "        # print(f\"After {count_steps} steps.\")\n",
        "        count_steps += 1\n",
        "        if flag:\n",
        "            data['corr_alice_bob'][i].append(alice.correlation(bob))\n",
        "            data['corr_alice_eve'][i].append(alice.correlation(eve))\n",
        "\n",
        "            if np.array_equal(alice.w,bob.w): # and flag\n",
        "                data['sync_time'].append(count_steps)\n",
        "                data['corr_alice'].append(alice.self_correlation())\n",
        "                data['corr_bob'].append(bob.self_correlation())\n",
        "                data['final_entropy'].append(alice.entropy_calc())\n",
        "                flag = False\n",
        "\n",
        "        # inputs = np.sign(np.random.rand(N,K)-0.5)\n",
        "        inputs = (np.random.randint(M,size=(N,K))+1)*(np.sign(np.random.rand(N,K)-0.5))\n",
        "        alice.forward(inputs)\n",
        "        bob.forward(inputs)\n",
        "  \n",
        "        # According to the algorithm, Alice and Bob take a step only when their outputs are identical:\n",
        "        if alice.tau == bob.tau:\n",
        "            data['when_move'][i].append(1)\n",
        "            alice.update(inputs)\n",
        "            bob.update(inputs)\n",
        "        else:\n",
        "            data['when_move'][i].append(0)\n",
        "      \n",
        "        ''' The best strategy for an attacker with only 1 TPM:\n",
        "        When Eve gets the same output like Alice- she updates the weights according to the same learning rule.\n",
        "        But, because of the fact that she cannot influence the dynamics between Alice and Bob, she has to do something\n",
        "        even when her output is different, otherwise she does not have a real chance.\n",
        "        So, she looks for the perceptron with the minimal absolute field (has the less \"confidence\") and flips it.\n",
        "        Then, her output becomes identical to Alice's output and she can updates according to the regular learning rule.\n",
        "        '''\n",
        "        eve.forward(inputs)\n",
        "        if eve.tau == alice.tau:\n",
        "            eve.update(inputs)\n",
        "        else:\n",
        "            min_field_index = np.argmin(np.abs(eve.fields))\n",
        "            eve.sigmas[min_field_index] *= -1 # flips a field\n",
        "            eve.tau *= -1 # which flips the output\n",
        "            eve.update(inputs)\n",
        "        # data['corr_alice_eve'][i].append(alice.correlation(eve))\n",
        "\n",
        "    print(f\" finished {100*(i+1)/num_sys}% of the runtime\")\n",
        "    data['attacker_time'].append(count_steps)"
      ],
      "execution_count": null,
      "outputs": []
    },
    {
      "cell_type": "code",
      "metadata": {
        "colab": {
          "base_uri": "https://localhost:8080/"
        },
        "id": "hUv36IYnJBh1",
        "outputId": "706ca738-d716-4adf-c445-07552d47d7e6"
      },
      "source": [
        "print(f\" The average synchronization time between Alice and bob is {np.mean(data['sync_time']):.3f} steps with std of {np.std(data['sync_time']):.3f}\")\n",
        "print(f\" The average learning time between of Eve is {np.mean(data['attacker_time']):.3f} steps with std of {np.std(data['attacker_time']):.3f}\")"
      ],
      "execution_count": null,
      "outputs": [
        {
          "output_type": "stream",
          "name": "stdout",
          "text": [
            " The average synchronization time between Alice and bob is 216.140 steps with std of 68.471\n",
            " The average learning time between of Eve is 649.370 steps with std of 410.145\n"
          ]
        }
      ]
    },
    {
      "cell_type": "markdown",
      "source": [
        "# Graphs"
      ],
      "metadata": {
        "id": "WoO95V0TsNZ2"
      }
    },
    {
      "cell_type": "markdown",
      "source": [
        "## Fig. 1: histogram of the synchronization time between Alice and bob"
      ],
      "metadata": {
        "id": "uEiVA6orsULW"
      }
    },
    {
      "cell_type": "code",
      "metadata": {
        "colab": {
          "base_uri": "https://localhost:8080/",
          "height": 312
        },
        "id": "W5qsNLAXMpsL",
        "outputId": "36979185-6a16-497e-f203-026110258a26"
      },
      "source": [
        "plt.figure()\n",
        "plt.hist(data['sync_time'], color = \"blue\", bins = 20)\n",
        "plt.title('Histogram of the sync. time between A & B')\n",
        "plt.xlabel(\"sync. time\")\n",
        "plt.ylabel(\"amount\")\n",
        "plt.plot()"
      ],
      "execution_count": null,
      "outputs": [
        {
          "output_type": "execute_result",
          "data": {
            "text/plain": [
              "[]"
            ]
          },
          "metadata": {},
          "execution_count": 7
        },
        {
          "output_type": "display_data",
          "data": {
            "text/plain": [
              "<Figure size 432x288 with 1 Axes>"
            ],
            "image/png": "[encoded data removed]"
          },
          "metadata": {
            "needs_background": "light"
          }
        }
      ]
    },
    {
      "cell_type": "markdown",
      "metadata": {
        "id": "pTyGlcGy45o3"
      },
      "source": [
        "We want to see that Eve didn't succeed to converge faster than Alice and Bob:"
      ]
    },
    {
      "cell_type": "markdown",
      "source": [
        "## Fig. 2: histogram of Eve's learning time"
      ],
      "metadata": {
        "id": "2byDYkyhslMT"
      }
    },
    {
      "cell_type": "code",
      "metadata": {
        "colab": {
          "base_uri": "https://localhost:8080/",
          "height": 312
        },
        "id": "jvgcbQZMQpgL",
        "outputId": "81650ce4-8eba-4c17-f1d9-efd09bde961b"
      },
      "source": [
        "plt.hist(data['attacker_time'], color = \"red\",  bins = 20)\n",
        "plt.title(\"Histogram of the attacker's learning time\")\n",
        "plt.xlabel(\"learning time\")\n",
        "plt.ylabel(\"amount\")\n",
        "plt.plot(c = 'red')"
      ],
      "execution_count": null,
      "outputs": [
        {
          "output_type": "execute_result",
          "data": {
            "text/plain": [
              "[]"
            ]
          },
          "metadata": {},
          "execution_count": 8
        },
        {
          "output_type": "display_data",
          "data": {
            "text/plain": [
              "<Figure size 432x288 with 1 Axes>"
            ],
            "image/png": "[encoded data removed]"
          },
          "metadata": {
            "needs_background": "light"
          }
        }
      ]
    },
    {
      "cell_type": "markdown",
      "source": [
        "As we can see, in average Eve's learning time is greater than the synchronization time between Alice and Bob. **But** we want to know if there is a chance that Eve's time is better! so..."
      ],
      "metadata": {
        "id": "Ak5Hh858sz9K"
      }
    },
    {
      "cell_type": "markdown",
      "source": [
        "## Fig. 3: The ratio between Eve's learning time and the synchronization time"
      ],
      "metadata": {
        "id": "RJVsGtOftXYy"
      }
    },
    {
      "cell_type": "code",
      "metadata": {
        "colab": {
          "base_uri": "https://localhost:8080/",
          "height": 330
        },
        "id": "HQLjF6R7CaGE",
        "outputId": "8ffff6c4-cfe3-433d-d73b-940c74dbf556"
      },
      "source": [
        "ratio_attack_sync = [i/j for i, j in zip(data['attacker_time'], data['sync_time'])]\n",
        "data['ratio_attack_sync'] = ratio_attack_sync\n",
        "\n",
        "plt.figure()\n",
        "plt.hist(ratio_attack_sync, color = \"orange\", bins = 20)\n",
        "plt.title('Ratio between the attacker learning time and the synchronization time')\n",
        "plt.xlabel(\"ratio\")\n",
        "plt.ylabel(\"amount\")\n",
        "plt.plot()\n",
        "\n",
        "print(f\" The average ratio between the attacker learning time and the synchronization time is {np.mean(ratio_attack_sync):.3f} with std of {np.std(ratio_attack_sync):.3f}\")\n",
        "print(f\" The minimal ratio  is {np.min(ratio_attack_sync):.3f}\")"
      ],
      "execution_count": 8,
      "outputs": [
        {
          "output_type": "stream",
          "name": "stdout",
          "text": [
            " The average ratio between the attacker learning time and the synchronization time is 3.211 with std of 2.243\n",
            " The minimal ratio  is 1.034\n"
          ]
        },
        {
          "output_type": "display_data",
          "data": {
            "text/plain": [
              "<Figure size 432x288 with 1 Axes>"
            ],
            "image/png": "[encoded data removed]"
          },
          "metadata": {
            "needs_background": "light"
          }
        }
      ]
    },
    {
      "cell_type": "markdown",
      "source": [
        "## Fig. 4: Histogram of the correlation between Alice's initial weights and her final weights"
      ],
      "metadata": {
        "id": "KiHNIfFo5vbt"
      }
    },
    {
      "cell_type": "markdown",
      "metadata": {
        "id": "uc2LboBi5Zl0"
      },
      "source": [
        "One can say that maybe if we know the initial state of Alice's weights we can evaluate where she will end.\n",
        "<br> Therefore, we calculate the correlation between Alice's initial and her final weights:"
      ]
    },
    {
      "cell_type": "code",
      "metadata": {
        "colab": {
          "base_uri": "https://localhost:8080/",
          "height": 312
        },
        "id": "ldi96l93JAic",
        "outputId": "a6c99ef2-79be-4d1d-897d-2745685a485c"
      },
      "source": [
        "plt.figure()\n",
        "plt.hist(data['corr_alice'], color = \"grey\", bins = 20)\n",
        "plt.title('Histogram of the correaltion between the initial and the final weights of Alice')\n",
        "plt.xlabel(\"correlation\")\n",
        "plt.ylabel(\"amount\")\n",
        "plt.plot()\n",
        "\n",
        "print(f\" The average correlation between Alice's initial and final weights is {np.mean(data['corr_alice']):.3f} steps with std of {np.std(data['corr_alice']):.3f}\")"
      ],
      "execution_count": null,
      "outputs": [
        {
          "output_type": "stream",
          "name": "stdout",
          "text": [
            " The average correlation between Alice's initial and final weights is -0.007 steps with std of 0.163\n"
          ]
        },
        {
          "output_type": "display_data",
          "data": {
            "text/plain": [
              "<Figure size 432x288 with 1 Axes>"
            ],
            "image/png": "[encoded data removed]"
          },
          "metadata": {
            "needs_background": "light"
          }
        }
      ]
    },
    {
      "cell_type": "markdown",
      "source": [
        "## Fig. 5: The weights correlation over time"
      ],
      "metadata": {
        "id": "dL2qka5J6Bq9"
      }
    },
    {
      "cell_type": "markdown",
      "metadata": {
        "id": "IvCFDLtme8zU"
      },
      "source": [
        "The following graph shows that correlation between alice and bob increases faster than the correlation between alice and eve over learning steps:"
      ]
    },
    {
      "cell_type": "code",
      "metadata": {
        "id": "VS-ncii4e8Lc",
        "colab": {
          "base_uri": "https://localhost:8080/",
          "height": 295
        },
        "outputId": "66ca896c-fe42-4af1-f1c8-24684a70d593"
      },
      "source": [
        "plt.figure()\n",
        "plt.title('The correlation between alice and bob vs. time')\n",
        "plt.xlabel(\"time\")\n",
        "plt.ylabel(\"correlation\")\n",
        "plt.plot(range(len(data['corr_alice_bob'][0])), data['corr_alice_bob'][0], c = 'green')\n",
        "\n",
        "plt.plot(range(len(data['corr_alice_eve'][0])), data['corr_alice_eve'][0], c = 'red')\n",
        "\n",
        "plt.show()\n"
      ],
      "execution_count": null,
      "outputs": [
        {
          "output_type": "display_data",
          "data": {
            "image/png": "[encoded data removed]",
            "text/plain": [
              "<Figure size 432x288 with 1 Axes>"
            ]
          },
          "metadata": {
            "needs_background": "light"
          }
        }
      ]
    },
    {
      "cell_type": "markdown",
      "source": [
        "## Fig. 6: The probability to get the same output over time"
      ],
      "metadata": {
        "id": "YGgEoGkr6fpb"
      }
    },
    {
      "cell_type": "markdown",
      "metadata": {
        "id": "_IV9S-n2PCZl"
      },
      "source": [
        "The following graphs confirm the assumption that as the correlation between Alice's and Bob's weights higher, the probability to get the same output is higher."
      ]
    },
    {
      "cell_type": "code",
      "metadata": {
        "id": "UnZju-iZIS89",
        "colab": {
          "base_uri": "https://localhost:8080/",
          "height": 314
        },
        "outputId": "39bf23d9-e948-48a5-a20b-d9e99ca30b54"
      },
      "source": [
        "# sliding window\n",
        "window_size = 50\n",
        "chance = []\n",
        "for i in range(len(data['when_move'][0])-window_size+1):\n",
        "    chance.append(sum(data['when_move'][0][i:i + window_size])/window_size)\n",
        "\n",
        "plt.figure()\n",
        "plt.title('The probability to take a step vs. time')\n",
        "plt.xlabel(\"time\")\n",
        "plt.ylabel(\"probability\")\n",
        "plt.plot(range(len(chance)), chance, c = 'green')\n",
        "plt.scatter(int(data['sync_time'][0]), chance[int(data['sync_time'][0])], c = 'red', s = 10, linewidth = 5)"
      ],
      "execution_count": null,
      "outputs": [
        {
          "output_type": "execute_result",
          "data": {
            "text/plain": [
              "<matplotlib.collections.PathCollection at 0x7fdeab4edd50>"
            ]
          },
          "metadata": {},
          "execution_count": 11
        },
        {
          "output_type": "display_data",
          "data": {
            "image/png": "[encoded data removed]",
            "text/plain": [
              "<Figure size 432x288 with 1 Axes>"
            ]
          },
          "metadata": {
            "needs_background": "light"
          }
        }
      ]
    },
    {
      "cell_type": "markdown",
      "metadata": {
        "id": "Q3cvIo_xJ3qT"
      },
      "source": [
        "### Graphs we want to show:\n",
        "1. Histogram of the synchronization time between Alice and bob. --- done!\n",
        "2. The chance of A&B to take a step (sliding window) --- done! \n",
        "3. The correlation between A&B over the learning time (vs. the attacker's correlation) - done!\n",
        "4.  To show that the final weights are not correlated to the initial weights. - done!\n",
        "5. Show how the sync time depends on the constants (N, L, K)- \"errorbar\"\n",
        "6. examine how inputs in [-M, M] affects the information we can get from the final weights - final entropy."
      ]
    }
  ]
}